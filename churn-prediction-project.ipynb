{
 "cells": [
  {
   "cell_type": "code",
   "execution_count": 2,
   "id": "592e0cc9-5764-4cc2-a864-69af119ad0a7",
   "metadata": {},
   "outputs": [
    {
     "name": "stdout",
     "output_type": "stream",
     "text": [
      "Channels:\n",
      " - conda-forge\n",
      " - defaults\n",
      "Platform: linux-64\n",
      "Collecting package metadata (repodata.json): - "
     ]
    },
    {
     "name": "stderr",
     "output_type": "stream",
     "text": [
      "IOStream.flush timed out\n",
      "IOStream.flush timed out\n",
      "IOStream.flush timed out\n"
     ]
    },
    {
     "name": "stdout",
     "output_type": "stream",
     "text": [
      "/ Collecting smdebug\n",
      "  Using cached smdebug-1.0.34-py2.py3-none-any.whl.metadata (1.8 kB)\n",
      "Collecting protobuf<=3.20.3,>=3.20.0 (from smdebug)\n",
      "  Using cached protobuf-3.20.3-cp310-cp310-manylinux_2_12_x86_64.manylinux2010_x86_64.whl.metadata (679 bytes)\n",
      "Requirement already satisfied: numpy>=1.16.0 in /opt/conda/lib/python3.10/site-packages (from smdebug) (1.26.4)\n",
      "Requirement already satisfied: packaging in /opt/conda/lib/python3.10/site-packages (from smdebug) (23.2)\n",
      "Requirement already satisfied: boto3>=1.10.32 in /opt/conda/lib/python3.10/site-packages (from smdebug) (1.34.51)\n",
      "Collecting pyinstrument==3.4.2 (from smdebug)\n",
      "  Using cached pyinstrument-3.4.2-py2.py3-none-any.whl.metadata (22 kB)\n",
      "Collecting pyinstrument-cext>=0.2.2 (from pyinstrument==3.4.2->smdebug)\n",
      "  Using cached pyinstrument_cext-0.2.4-cp310-cp310-linux_x86_64.whl\n",
      "Requirement already satisfied: botocore<1.35.0,>=1.34.51 in /opt/conda/lib/python3.10/site-packages (from boto3>=1.10.32->smdebug) (1.34.51)\n",
      "Requirement already satisfied: jmespath<2.0.0,>=0.7.1 in /opt/conda/lib/python3.10/site-packages (from boto3>=1.10.32->smdebug) (1.0.1)\n",
      "Requirement already satisfied: s3transfer<0.11.0,>=0.10.0 in /opt/conda/lib/python3.10/site-packages (from boto3>=1.10.32->smdebug) (0.10.1)\n",
      "Requirement already satisfied: python-dateutil<3.0.0,>=2.1 in /opt/conda/lib/python3.10/site-packages (from botocore<1.35.0,>=1.34.51->boto3>=1.10.32->smdebug) (2.9.0)\n",
      "Requirement already satisfied: urllib3<2.1,>=1.25.4 in /opt/conda/lib/python3.10/site-packages (from botocore<1.35.0,>=1.34.51->boto3>=1.10.32->smdebug) (1.26.18)\n",
      "Requirement already satisfied: six>=1.5 in /opt/conda/lib/python3.10/site-packages (from python-dateutil<3.0.0,>=2.1->botocore<1.35.0,>=1.34.51->boto3>=1.10.32->smdebug) (1.16.0)\n",
      "Using cached smdebug-1.0.34-py2.py3-none-any.whl (280 kB)\n",
      "Using cached pyinstrument-3.4.2-py2.py3-none-any.whl (83 kB)\n",
      "Using cached protobuf-3.20.3-cp310-cp310-manylinux_2_12_x86_64.manylinux2010_x86_64.whl (1.1 MB)\n",
      "Installing collected packages: pyinstrument-cext, pyinstrument, protobuf, smdebug\n",
      "  Attempting uninstall: protobuf\n",
      "    Found existing installation: protobuf 4.24.4\n",
      "    Uninstalling protobuf-4.24.4:\n",
      "      Successfully uninstalled protobuf-4.24.4\n",
      "Successfully installed protobuf-3.20.3 pyinstrument-3.4.2 pyinstrument-cext-0.2.4 smdebug-1.0.34\n"
     ]
    }
   ],
   "source": [
    "!conda install -c conda-forge shap --yes\n",
    "!pip install smdebug --upgrade"
   ]
  },
  {
   "cell_type": "code",
   "execution_count": 3,
   "id": "d8941d68-dc64-42c5-afae-c236a639f26e",
   "metadata": {},
   "outputs": [
    {
     "name": "stdout",
     "output_type": "stream",
     "text": [
      "Collecting s3fs\n",
      "  Using cached s3fs-2024.6.0-py3-none-any.whl.metadata (1.6 kB)\n",
      "Collecting shap\n",
      "  Using cached shap-0.45.1-cp310-cp310-manylinux_2_12_x86_64.manylinux2010_x86_64.manylinux_2_17_x86_64.manylinux2014_x86_64.whl.metadata (24 kB)\n",
      "Requirement already satisfied: aiobotocore<3.0.0,>=2.5.4 in /opt/conda/lib/python3.10/site-packages (from s3fs) (2.12.2)\n",
      "Collecting fsspec==2024.6.0.* (from s3fs)\n",
      "  Using cached fsspec-2024.6.0-py3-none-any.whl.metadata (11 kB)\n",
      "Requirement already satisfied: aiohttp!=4.0.0a0,!=4.0.0a1 in /opt/conda/lib/python3.10/site-packages (from s3fs) (3.9.5)\n",
      "Requirement already satisfied: numpy in /opt/conda/lib/python3.10/site-packages (from shap) (1.26.4)\n",
      "Requirement already satisfied: scipy in /opt/conda/lib/python3.10/site-packages (from shap) (1.11.4)\n",
      "Requirement already satisfied: scikit-learn in /opt/conda/lib/python3.10/site-packages (from shap) (1.4.2)\n",
      "Requirement already satisfied: pandas in /opt/conda/lib/python3.10/site-packages (from shap) (2.1.4)\n",
      "Requirement already satisfied: tqdm>=4.27.0 in /opt/conda/lib/python3.10/site-packages (from shap) (4.66.4)\n",
      "Requirement already satisfied: packaging>20.9 in /opt/conda/lib/python3.10/site-packages (from shap) (23.2)\n",
      "Collecting slicer==0.0.8 (from shap)\n",
      "  Using cached slicer-0.0.8-py3-none-any.whl.metadata (4.0 kB)\n",
      "Requirement already satisfied: numba in /opt/conda/lib/python3.10/site-packages (from shap) (0.59.1)\n",
      "Requirement already satisfied: cloudpickle in /opt/conda/lib/python3.10/site-packages (from shap) (2.2.1)\n",
      "Requirement already satisfied: botocore<1.34.52,>=1.34.41 in /opt/conda/lib/python3.10/site-packages (from aiobotocore<3.0.0,>=2.5.4->s3fs) (1.34.51)\n",
      "Requirement already satisfied: wrapt<2.0.0,>=1.10.10 in /opt/conda/lib/python3.10/site-packages (from aiobotocore<3.0.0,>=2.5.4->s3fs) (1.14.1)\n",
      "Requirement already satisfied: aioitertools<1.0.0,>=0.5.1 in /opt/conda/lib/python3.10/site-packages (from aiobotocore<3.0.0,>=2.5.4->s3fs) (0.11.0)\n",
      "Requirement already satisfied: aiosignal>=1.1.2 in /opt/conda/lib/python3.10/site-packages (from aiohttp!=4.0.0a0,!=4.0.0a1->s3fs) (1.3.1)\n",
      "Requirement already satisfied: attrs>=17.3.0 in /opt/conda/lib/python3.10/site-packages (from aiohttp!=4.0.0a0,!=4.0.0a1->s3fs) (23.2.0)\n",
      "Requirement already satisfied: frozenlist>=1.1.1 in /opt/conda/lib/python3.10/site-packages (from aiohttp!=4.0.0a0,!=4.0.0a1->s3fs) (1.4.1)\n",
      "Requirement already satisfied: multidict<7.0,>=4.5 in /opt/conda/lib/python3.10/site-packages (from aiohttp!=4.0.0a0,!=4.0.0a1->s3fs) (6.0.5)\n",
      "Requirement already satisfied: yarl<2.0,>=1.0 in /opt/conda/lib/python3.10/site-packages (from aiohttp!=4.0.0a0,!=4.0.0a1->s3fs) (1.9.4)\n",
      "Requirement already satisfied: async-timeout<5.0,>=4.0 in /opt/conda/lib/python3.10/site-packages (from aiohttp!=4.0.0a0,!=4.0.0a1->s3fs) (4.0.3)\n",
      "Requirement already satisfied: llvmlite<0.43,>=0.42.0dev0 in /opt/conda/lib/python3.10/site-packages (from numba->shap) (0.42.0)\n",
      "Requirement already satisfied: python-dateutil>=2.8.2 in /opt/conda/lib/python3.10/site-packages (from pandas->shap) (2.9.0)\n",
      "Requirement already satisfied: pytz>=2020.1 in /opt/conda/lib/python3.10/site-packages (from pandas->shap) (2023.3)\n",
      "Requirement already satisfied: tzdata>=2022.1 in /opt/conda/lib/python3.10/site-packages (from pandas->shap) (2024.1)\n",
      "Requirement already satisfied: joblib>=1.2.0 in /opt/conda/lib/python3.10/site-packages (from scikit-learn->shap) (1.4.2)\n",
      "Requirement already satisfied: threadpoolctl>=2.0.0 in /opt/conda/lib/python3.10/site-packages (from scikit-learn->shap) (3.5.0)\n",
      "Requirement already satisfied: jmespath<2.0.0,>=0.7.1 in /opt/conda/lib/python3.10/site-packages (from botocore<1.34.52,>=1.34.41->aiobotocore<3.0.0,>=2.5.4->s3fs) (1.0.1)\n",
      "Requirement already satisfied: urllib3<2.1,>=1.25.4 in /opt/conda/lib/python3.10/site-packages (from botocore<1.34.52,>=1.34.41->aiobotocore<3.0.0,>=2.5.4->s3fs) (1.26.18)\n",
      "Requirement already satisfied: six>=1.5 in /opt/conda/lib/python3.10/site-packages (from python-dateutil>=2.8.2->pandas->shap) (1.16.0)\n",
      "Requirement already satisfied: idna>=2.0 in /opt/conda/lib/python3.10/site-packages (from yarl<2.0,>=1.0->aiohttp!=4.0.0a0,!=4.0.0a1->s3fs) (3.7)\n",
      "Using cached s3fs-2024.6.0-py3-none-any.whl (29 kB)\n",
      "Using cached fsspec-2024.6.0-py3-none-any.whl (176 kB)\n",
      "Using cached shap-0.45.1-cp310-cp310-manylinux_2_12_x86_64.manylinux2010_x86_64.manylinux_2_17_x86_64.manylinux2014_x86_64.whl (540 kB)\n",
      "Using cached slicer-0.0.8-py3-none-any.whl (15 kB)\n",
      "Installing collected packages: slicer, fsspec, shap, s3fs\n",
      "  Attempting uninstall: fsspec\n",
      "    Found existing installation: fsspec 2023.6.0\n",
      "    Uninstalling fsspec-2023.6.0:\n",
      "      Successfully uninstalled fsspec-2023.6.0\n",
      "\u001b[31mERROR: pip's dependency resolver does not currently take into account all the packages that are installed. This behaviour is the source of the following dependency conflicts.\n",
      "jupyter-ai 2.15.0 requires faiss-cpu, which is not installed.\n",
      "datasets 2.19.1 requires fsspec[http]<=2024.3.1,>=2023.1.0, but you have fsspec 2024.6.0 which is incompatible.\n",
      "jupyter-scheduler 2.5.2 requires fsspec==2023.6.0, but you have fsspec 2024.6.0 which is incompatible.\u001b[0m\u001b[31m\n",
      "\u001b[0mSuccessfully installed fsspec-2023.6.0 s3fs-2024.6.0 shap-0.45.1 slicer-0.0.8\n"
     ]
    }
   ],
   "source": [
    "!pip install s3fs shap"
   ]
  },
  {
   "cell_type": "code",
   "execution_count": 4,
   "id": "a1a14526-4196-473b-8947-8c5313c73ccd",
   "metadata": {},
   "outputs": [
    {
     "name": "stdout",
     "output_type": "stream",
     "text": [
      "sagemaker.config INFO - Not applying SDK defaults from location: /etc/xdg/sagemaker/config.yaml\n",
      "sagemaker.config INFO - Not applying SDK defaults from location: /home/sagemaker-user/.config/sagemaker/config.yaml\n",
      "[2024-06-09 12:31:34.166 default:112 INFO utils.py:28] RULE_JOB_STOP_SIGNAL_FILENAME: None\n"
     ]
    }
   ],
   "source": [
    "import re\n",
    "import s3fs\n",
    "import shap\n",
    "import time\n",
    "import boto3\n",
    "import pandas as pd\n",
    "import numpy as np\n",
    "\n",
    "from itertools import islice\n",
    "import matplotlib.pyplot as plt\n",
    "\n",
    "import sagemaker\n",
    "from sagemaker.xgboost.estimator import XGBoost\n",
    "from sagemaker.session import Session\n",
    "from sagemaker.inputs import TrainingInput\n",
    "from sagemaker.debugger import DebuggerHookConfig,CollectionConfig\n",
    "from sagemaker.debugger import rule_configs, Rule\n",
    "from smdebug.trials import create_trial\n",
    "from sagemaker.tuner import (\n",
    "    IntegerParameter,\n",
    "    CategoricalParameter,\n",
    "    ContinuousParameter,\n",
    "    HyperparameterTuner\n",
    ")"
   ]
  },
  {
   "cell_type": "code",
   "execution_count": 5,
   "id": "89672289-906c-4e6c-aa81-da381e481c65",
   "metadata": {},
   "outputs": [
    {
     "data": {
      "text/plain": [
       "'us-east-2'"
      ]
     },
     "execution_count": 5,
     "metadata": {},
     "output_type": "execute_result"
    }
   ],
   "source": [
    "sagemaker_session = sagemaker.Session()\n",
    "role = sagemaker.get_execution_role()\n",
    "region = sagemaker_session.boto_region_name\n",
    "region"
   ]
  },
  {
   "cell_type": "code",
   "execution_count": 6,
   "id": "085ce077-71df-4032-9431-6472e51afac0",
   "metadata": {},
   "outputs": [],
   "source": [
    "def preprocess_data(file_path):\n",
    "    df = pd.read_csv(file_path)\n",
    "    ## Convert to datetime columns\n",
    "    df[\"firstorder\"]=pd.to_datetime(df[\"firstorder\"],errors='coerce')\n",
    "    df[\"lastorder\"] = pd.to_datetime(df[\"lastorder\"],errors='coerce')\n",
    "    ## Drop Rows with null values\n",
    "    df = df.dropna()\n",
    "    ## Create Column which gives the days between the last order and the first order\n",
    "    df[\"first_last_days_diff\"] = (df['lastorder']-df['firstorder']).dt.days\n",
    "    ## Create Column which gives the days between when the customer record was created and the first order\n",
    "    df['created'] = pd.to_datetime(df['created'])\n",
    "    df['created_first_days_diff']=(df['created']-df['firstorder']).dt.days\n",
    "    ## Drop Columns\n",
    "    df.drop(['custid','created','firstorder','lastorder'],axis=1,inplace=True)\n",
    "    ## Apply one hot encoding on favday and city columns\n",
    "    df = pd.get_dummies(df,prefix=['favday','city'],columns=['favday','city'])\n",
    "    return df"
   ]
  },
  {
   "cell_type": "code",
   "execution_count": 34,
   "id": "e7ceec5a-1c1c-473c-bf05-563baafedea6",
   "metadata": {},
   "outputs": [],
   "source": [
    "# storedata = preprocess_data('churn-modelling/data/storedata_total.csv')\n",
    "default_bucket = 'sagemaker-studio-891376975801-3j1752jty8h'\n",
    "storedata = preprocess_data(f\"s3://{default_bucket}/data/storedata_total.csv\")"
   ]
  },
  {
   "cell_type": "code",
   "execution_count": 35,
   "id": "78cd3de2-04a8-4479-9bd6-b63c82595e79",
   "metadata": {},
   "outputs": [
    {
     "data": {
      "text/html": [
       "<div>\n",
       "<style scoped>\n",
       "    .dataframe tbody tr th:only-of-type {\n",
       "        vertical-align: middle;\n",
       "    }\n",
       "\n",
       "    .dataframe tbody tr th {\n",
       "        vertical-align: top;\n",
       "    }\n",
       "\n",
       "    .dataframe thead th {\n",
       "        text-align: right;\n",
       "    }\n",
       "</style>\n",
       "<table border=\"1\" class=\"dataframe\">\n",
       "  <thead>\n",
       "    <tr style=\"text-align: right;\">\n",
       "      <th></th>\n",
       "      <th>retained</th>\n",
       "      <th>esent</th>\n",
       "      <th>eopenrate</th>\n",
       "      <th>eclickrate</th>\n",
       "      <th>avgorder</th>\n",
       "      <th>ordfreq</th>\n",
       "      <th>paperless</th>\n",
       "      <th>refill</th>\n",
       "      <th>doorstep</th>\n",
       "      <th>first_last_days_diff</th>\n",
       "      <th>...</th>\n",
       "      <th>favday_Monday</th>\n",
       "      <th>favday_Saturday</th>\n",
       "      <th>favday_Sunday</th>\n",
       "      <th>favday_Thursday</th>\n",
       "      <th>favday_Tuesday</th>\n",
       "      <th>favday_Wednesday</th>\n",
       "      <th>city_BLR</th>\n",
       "      <th>city_BOM</th>\n",
       "      <th>city_DEL</th>\n",
       "      <th>city_MAA</th>\n",
       "    </tr>\n",
       "  </thead>\n",
       "  <tbody>\n",
       "    <tr>\n",
       "      <th>0</th>\n",
       "      <td>0</td>\n",
       "      <td>29</td>\n",
       "      <td>100.000000</td>\n",
       "      <td>3.448276</td>\n",
       "      <td>14.52</td>\n",
       "      <td>0.000000</td>\n",
       "      <td>0</td>\n",
       "      <td>0</td>\n",
       "      <td>0</td>\n",
       "      <td>0</td>\n",
       "      <td>...</td>\n",
       "      <td>True</td>\n",
       "      <td>False</td>\n",
       "      <td>False</td>\n",
       "      <td>False</td>\n",
       "      <td>False</td>\n",
       "      <td>False</td>\n",
       "      <td>False</td>\n",
       "      <td>False</td>\n",
       "      <td>True</td>\n",
       "      <td>False</td>\n",
       "    </tr>\n",
       "    <tr>\n",
       "      <th>1</th>\n",
       "      <td>1</td>\n",
       "      <td>95</td>\n",
       "      <td>92.631579</td>\n",
       "      <td>10.526316</td>\n",
       "      <td>83.69</td>\n",
       "      <td>0.181641</td>\n",
       "      <td>1</td>\n",
       "      <td>1</td>\n",
       "      <td>1</td>\n",
       "      <td>1024</td>\n",
       "      <td>...</td>\n",
       "      <td>False</td>\n",
       "      <td>False</td>\n",
       "      <td>False</td>\n",
       "      <td>False</td>\n",
       "      <td>False</td>\n",
       "      <td>False</td>\n",
       "      <td>False</td>\n",
       "      <td>False</td>\n",
       "      <td>True</td>\n",
       "      <td>False</td>\n",
       "    </tr>\n",
       "    <tr>\n",
       "      <th>2</th>\n",
       "      <td>0</td>\n",
       "      <td>0</td>\n",
       "      <td>0.000000</td>\n",
       "      <td>0.000000</td>\n",
       "      <td>33.58</td>\n",
       "      <td>0.059908</td>\n",
       "      <td>0</td>\n",
       "      <td>0</td>\n",
       "      <td>0</td>\n",
       "      <td>217</td>\n",
       "      <td>...</td>\n",
       "      <td>False</td>\n",
       "      <td>False</td>\n",
       "      <td>False</td>\n",
       "      <td>False</td>\n",
       "      <td>False</td>\n",
       "      <td>True</td>\n",
       "      <td>False</td>\n",
       "      <td>False</td>\n",
       "      <td>True</td>\n",
       "      <td>False</td>\n",
       "    </tr>\n",
       "    <tr>\n",
       "      <th>3</th>\n",
       "      <td>0</td>\n",
       "      <td>0</td>\n",
       "      <td>0.000000</td>\n",
       "      <td>0.000000</td>\n",
       "      <td>54.96</td>\n",
       "      <td>0.000000</td>\n",
       "      <td>0</td>\n",
       "      <td>0</td>\n",
       "      <td>0</td>\n",
       "      <td>0</td>\n",
       "      <td>...</td>\n",
       "      <td>False</td>\n",
       "      <td>False</td>\n",
       "      <td>False</td>\n",
       "      <td>True</td>\n",
       "      <td>False</td>\n",
       "      <td>False</td>\n",
       "      <td>False</td>\n",
       "      <td>True</td>\n",
       "      <td>False</td>\n",
       "      <td>False</td>\n",
       "    </tr>\n",
       "    <tr>\n",
       "      <th>4</th>\n",
       "      <td>1</td>\n",
       "      <td>30</td>\n",
       "      <td>90.000000</td>\n",
       "      <td>13.333333</td>\n",
       "      <td>111.91</td>\n",
       "      <td>0.008850</td>\n",
       "      <td>0</td>\n",
       "      <td>0</td>\n",
       "      <td>0</td>\n",
       "      <td>791</td>\n",
       "      <td>...</td>\n",
       "      <td>True</td>\n",
       "      <td>False</td>\n",
       "      <td>False</td>\n",
       "      <td>False</td>\n",
       "      <td>False</td>\n",
       "      <td>False</td>\n",
       "      <td>False</td>\n",
       "      <td>True</td>\n",
       "      <td>False</td>\n",
       "      <td>False</td>\n",
       "    </tr>\n",
       "  </tbody>\n",
       "</table>\n",
       "<p>5 rows × 22 columns</p>\n",
       "</div>"
      ],
      "text/plain": [
       "   retained  esent   eopenrate  eclickrate  avgorder   ordfreq  paperless  \\\n",
       "0         0     29  100.000000    3.448276     14.52  0.000000          0   \n",
       "1         1     95   92.631579   10.526316     83.69  0.181641          1   \n",
       "2         0      0    0.000000    0.000000     33.58  0.059908          0   \n",
       "3         0      0    0.000000    0.000000     54.96  0.000000          0   \n",
       "4         1     30   90.000000   13.333333    111.91  0.008850          0   \n",
       "\n",
       "   refill  doorstep  first_last_days_diff  ...  favday_Monday  \\\n",
       "0       0         0                     0  ...           True   \n",
       "1       1         1                  1024  ...          False   \n",
       "2       0         0                   217  ...          False   \n",
       "3       0         0                     0  ...          False   \n",
       "4       0         0                   791  ...           True   \n",
       "\n",
       "   favday_Saturday  favday_Sunday  favday_Thursday  favday_Tuesday  \\\n",
       "0            False          False            False           False   \n",
       "1            False          False            False           False   \n",
       "2            False          False            False           False   \n",
       "3            False          False             True           False   \n",
       "4            False          False            False           False   \n",
       "\n",
       "   favday_Wednesday  city_BLR  city_BOM  city_DEL  city_MAA  \n",
       "0             False     False     False      True     False  \n",
       "1             False     False     False      True     False  \n",
       "2              True     False     False      True     False  \n",
       "3             False     False      True     False     False  \n",
       "4             False     False      True     False     False  \n",
       "\n",
       "[5 rows x 22 columns]"
      ]
     },
     "execution_count": 35,
     "metadata": {},
     "output_type": "execute_result"
    }
   ],
   "source": [
    "storedata.head()"
   ]
  },
  {
   "cell_type": "code",
   "execution_count": 36,
   "id": "a72cc58e-66e7-4792-bdd1-2021fe387cdc",
   "metadata": {},
   "outputs": [],
   "source": [
    "## Set the required configurations\n",
    "model_name = \"churn_model\"\n",
    "env = \"dev\""
   ]
  },
  {
   "cell_type": "code",
   "execution_count": 37,
   "id": "b9bb91b9-5387-486c-ac66-149ce735e913",
   "metadata": {},
   "outputs": [],
   "source": [
    "def split_datasets(df):\n",
    "    y=df.pop(\"retained\")\n",
    "    X_pre = df\n",
    "    y_pre = y.to_numpy().reshape(len(y),1)\n",
    "    feature_names = list(X_pre.columns)\n",
    "    X= np.concatenate((y_pre,X_pre),axis=1)\n",
    "    np.random.shuffle(X)\n",
    "    train,validation,test=np.split(X,[int(.7*len(X)),int(.85*len(X))])\n",
    "    return feature_names,train,validation,test\n",
    "\n",
    "# Split dataset\n",
    "feature_names,train,validation,test = split_datasets(storedata)"
   ]
  },
  {
   "cell_type": "code",
   "execution_count": 38,
   "id": "ee688b58-96f6-4352-9a4a-bc9363310a7c",
   "metadata": {},
   "outputs": [
    {
     "name": "stdout",
     "output_type": "stream",
     "text": [
      "['esent', 'eopenrate', 'eclickrate', 'avgorder', 'ordfreq', 'paperless', 'refill', 'doorstep', 'first_last_days_diff', 'created_first_days_diff', 'favday_Friday', 'favday_Monday', 'favday_Saturday', 'favday_Sunday', 'favday_Thursday', 'favday_Tuesday', 'favday_Wednesday', 'city_BLR', 'city_BOM', 'city_DEL', 'city_MAA']\n"
     ]
    }
   ],
   "source": [
    "print(feature_names)"
   ]
  },
  {
   "cell_type": "code",
   "execution_count": 39,
   "id": "c8f59adc-cdc0-48e9-9501-7cca103f3cef",
   "metadata": {},
   "outputs": [
    {
     "data": {
      "text/plain": [
       "array([[1, 36, 58.33333333, ..., False, False, True],\n",
       "       [1, 45, 8.888888889, ..., False, True, False],\n",
       "       [1, 43, 18.60465116, ..., False, True, False],\n",
       "       ...,\n",
       "       [1, 28, 75.0, ..., False, False, True],\n",
       "       [1, 30, 10.0, ..., True, False, False],\n",
       "       [1, 27, 74.07407407, ..., False, False, True]], dtype=object)"
      ]
     },
     "execution_count": 39,
     "metadata": {},
     "output_type": "execute_result"
    }
   ],
   "source": [
    "train"
   ]
  },
  {
   "cell_type": "code",
   "execution_count": 40,
   "id": "b3e5d0a6-fbce-4d8e-bb0e-3a58a7a5e170",
   "metadata": {},
   "outputs": [
    {
     "data": {
      "text/plain": [
       "array([[1, 45, 8.888888889, ..., False, False, True],\n",
       "       [1, 26, 76.92307692, ..., False, True, False],\n",
       "       [1, 26, 53.84615385, ..., False, True, False],\n",
       "       ...,\n",
       "       [1, 27, 22.22222222, ..., False, False, True],\n",
       "       [1, 11, 54.54545455, ..., False, True, False],\n",
       "       [1, 10, 70.0, ..., True, False, False]], dtype=object)"
      ]
     },
     "execution_count": 40,
     "metadata": {},
     "output_type": "execute_result"
    }
   ],
   "source": [
    "validation"
   ]
  },
  {
   "cell_type": "code",
   "execution_count": 16,
   "id": "68a76695-aee1-4111-92af-d42a0dbb143c",
   "metadata": {},
   "outputs": [
    {
     "data": {
      "text/plain": [
       "array([[0, 19, 5.263157895, ..., True, False, False],\n",
       "       [1, 30, 96.66666667, ..., False, True, False],\n",
       "       [1, 32, 18.75, ..., False, False, True],\n",
       "       ...,\n",
       "       [0, 17, 11.76470588, ..., True, False, False],\n",
       "       [0, 0, 0.0, ..., False, True, False],\n",
       "       [1, 43, 16.27906977, ..., False, True, False]], dtype=object)"
      ]
     },
     "execution_count": 16,
     "metadata": {},
     "output_type": "execute_result"
    }
   ],
   "source": [
    "test"
   ]
  },
  {
   "cell_type": "code",
   "execution_count": 41,
   "id": "220fb8f8-8876-4424-8ab9-ef7237d3fed1",
   "metadata": {},
   "outputs": [],
   "source": [
    "pd.DataFrame(train).to_csv(f\"s3://{default_bucket}/data/train/train.csv\",header=False,index=False)\n",
    "pd.DataFrame(validation).to_csv(f\"s3://{default_bucket}/data/validation/validation.csv\",header=False,index=False)\n",
    "pd.DataFrame(test).to_csv(f\"s3://{default_bucket}/data/test/test.csv\",header=False,index=False)"
   ]
  },
  {
   "cell_type": "code",
   "execution_count": 42,
   "id": "47690755-2fdc-42dc-84ee-55e8f750b4c0",
   "metadata": {},
   "outputs": [],
   "source": [
    "s3_input_train = TrainingInput(\n",
    "    s3_data=f\"s3://{default_bucket}/data/train/\",content_type=\"csv\")\n",
    "s3_input_validation = TrainingInput(\n",
    "    s3_data=f\"s3://{default_bucket}/data/validation/\",content_type=\"csv\")"
   ]
  },
  {
   "cell_type": "code",
   "execution_count": 43,
   "id": "27e9d1b4-c830-42bb-a5f4-fe840874b947",
   "metadata": {},
   "outputs": [],
   "source": [
    "fixed_hyperparameters = {\n",
    "    \"eval_metric\":\"auc\",\n",
    "    \"objective\":\"binary:logistic\",\n",
    "    \"num_round\":\"100\",\n",
    "    \"rate_drop\":\"0.3\",\n",
    "    \"tweedie_variance_power\":\"1.4\"\n",
    "}"
   ]
  },
  {
   "cell_type": "code",
   "execution_count": 44,
   "id": "3f2c3526-e524-4623-9c38-88e35648d408",
   "metadata": {},
   "outputs": [],
   "source": [
    "sess = sagemaker.Session()\n",
    "container = sagemaker.image_uris.retrieve(\"xgboost\",region,\"0.90-2\")\n",
    "\n",
    "estimator = sagemaker.estimator.Estimator(\n",
    "    container,\n",
    "    role,\n",
    "    instance_count=1,\n",
    "    hyperparameters=fixed_hyperparameters,\n",
    "    instance_type=\"ml.m4.xlarge\",\n",
    "    output_path=\"s3://{}/output\".format(default_bucket),\n",
    "    sagemaker_session=sagemaker_session\n",
    ")"
   ]
  },
  {
   "cell_type": "code",
   "execution_count": 45,
   "id": "e3cea3bf-a9c0-4d5e-94f9-befd8a4fb161",
   "metadata": {},
   "outputs": [],
   "source": [
    "hyperparameter_ranges = {\n",
    "    \"eta\": ContinuousParameter(0, 1),\n",
    "    \"min_child_weight\": ContinuousParameter(1, 10),\n",
    "    \"alpha\": ContinuousParameter(0, 2),\n",
    "    \"max_depth\": IntegerParameter(1, 10),\n",
    "}"
   ]
  },
  {
   "cell_type": "code",
   "execution_count": 46,
   "id": "62ddabca-2dbb-4f2b-b85c-0b4279b3ffd7",
   "metadata": {},
   "outputs": [],
   "source": [
    "objective_metric_name = \"validation:auc\""
   ]
  },
  {
   "cell_type": "code",
   "execution_count": 47,
   "id": "a1721ea8-0407-4333-8001-193ddc1bda29",
   "metadata": {},
   "outputs": [],
   "source": [
    "tuner = HyperparameterTuner(\n",
    "    estimator,objective_metric_name,hyperparameter_ranges,max_jobs=10,max_parallel_jobs=2)"
   ]
  },
  {
   "cell_type": "code",
   "execution_count": 48,
   "id": "979e2a10-75ce-436c-baf1-20282f8bdf25",
   "metadata": {},
   "outputs": [
    {
     "name": "stderr",
     "output_type": "stream",
     "text": [
      "No finished training job found associated with this estimator. Please make sure this estimator is only used for building workflow config\n",
      "No finished training job found associated with this estimator. Please make sure this estimator is only used for building workflow config\n"
     ]
    },
    {
     "name": "stdout",
     "output_type": "stream",
     "text": [
      ".................................................................!\n"
     ]
    }
   ],
   "source": [
    "tuner.fit({\n",
    "    \"train\":s3_input_train,\n",
    "    \"validation\":s3_input_validation\n",
    "    },include_cls_metadata=False)"
   ]
  },
  {
   "cell_type": "code",
   "execution_count": 49,
   "id": "6cf1af66-3c15-47d8-9cc0-f10d390f5bac",
   "metadata": {},
   "outputs": [
    {
     "name": "stdout",
     "output_type": "stream",
     "text": [
      "10 training jobs have completed\n",
      "Best Model found so far:\n",
      "{'CreationTime': datetime.datetime(2024, 6, 9, 13, 29, 33, tzinfo=tzlocal()),\n",
      " 'FinalHyperParameterTuningJobObjectiveMetric': {'MetricName': 'validation:auc',\n",
      "                                                 'Value': 0.9763540029525757},\n",
      " 'ObjectiveStatus': 'Succeeded',\n",
      " 'TrainingEndTime': datetime.datetime(2024, 6, 9, 13, 30, 9, tzinfo=tzlocal()),\n",
      " 'TrainingJobArn': 'arn:aws:sagemaker:us-east-2:891376975801:training-job/sagemaker-xgboost-240609-1325-008-6b84dd44',\n",
      " 'TrainingJobName': 'sagemaker-xgboost-240609-1325-008-6b84dd44',\n",
      " 'TrainingJobStatus': 'Completed',\n",
      " 'TrainingStartTime': datetime.datetime(2024, 6, 9, 13, 29, 36, tzinfo=tzlocal()),\n",
      " 'TunedHyperParameters': {'alpha': '1.9548845016328644',\n",
      "                          'eta': '0.22718926547086682',\n",
      "                          'max_depth': '7',\n",
      "                          'min_child_weight': '6.055610735432826'}}\n"
     ]
    }
   ],
   "source": [
    "## Explore the best model generated\n",
    "tuning_job_result = boto3.client(\"sagemaker\").describe_hyper_parameter_tuning_job(\n",
    "    HyperParameterTuningJobName=tuner.latest_tuning_job.job_name\n",
    ")\n",
    "\n",
    "job_count = tuning_job_result[\"TrainingJobStatusCounters\"][\"Completed\"]\n",
    "print(\"%d training jobs have completed\" %job_count)\n",
    "\n",
    "## Get the best training job\n",
    "\n",
    "from pprint import pprint\n",
    "if tuning_job_result.get(\"BestTrainingJob\",None):\n",
    "    print(\"Best Model found so far:\")\n",
    "    pprint(tuning_job_result[\"BestTrainingJob\"])\n",
    "else:\n",
    "    print(\"No training jobs have reported results yet.\")"
   ]
  },
  {
   "cell_type": "code",
   "execution_count": 50,
   "id": "0578b8f9-cdaf-4c5b-88ea-08716d28c89d",
   "metadata": {},
   "outputs": [],
   "source": [
    "best_hyperparameters = tuning_job_result[\"BestTrainingJob\"][\"TunedHyperParameters\"]"
   ]
  },
  {
   "cell_type": "code",
   "execution_count": 51,
   "id": "79afbf46-5dc9-49e3-a8ec-58ad90a8af91",
   "metadata": {},
   "outputs": [
    {
     "data": {
      "text/plain": [
       "{'alpha': '1.9548845016328644',\n",
       " 'eta': '0.22718926547086682',\n",
       " 'max_depth': '7',\n",
       " 'min_child_weight': '6.055610735432826'}"
      ]
     },
     "execution_count": 51,
     "metadata": {},
     "output_type": "execute_result"
    }
   ],
   "source": [
    "best_hyperparameters"
   ]
  },
  {
   "cell_type": "code",
   "execution_count": 52,
   "id": "4b8d1540-720b-4719-9034-37e539b1e78f",
   "metadata": {},
   "outputs": [],
   "source": [
    "hyperparameters = {**fixed_hyperparameters,**best_hyperparameters}\n",
    "save_interval = 5\n",
    "base_job_name = \"demo-smdebug-xgboost-churn-classification\""
   ]
  },
  {
   "cell_type": "code",
   "execution_count": 53,
   "id": "acee1302-c5a7-42e8-b3a0-b0a22184127f",
   "metadata": {},
   "outputs": [],
   "source": [
    "container = sagemaker.image_uris.retrieve(\"xgboost\",region,\"0.90-2\")"
   ]
  },
  {
   "cell_type": "code",
   "execution_count": 54,
   "id": "098e3d91-f435-4af2-b67c-0342fea382b2",
   "metadata": {},
   "outputs": [],
   "source": [
    "estimator = sagemaker.estimator.Estimator(\n",
    "    container,\n",
    "    role,\n",
    "    base_job_name=base_job_name,\n",
    "    instance_count=1,\n",
    "    instance_type=\"ml.m4.xlarge\",\n",
    "    output_path=\"s3://{}/output\".format(default_bucket),\n",
    "    sagemaker_session=sess,\n",
    "    hyperparameters=hyperparameters,\n",
    "    max_run=1800,\n",
    "    debugger_hook_config = DebuggerHookConfig(\n",
    "        s3_output_path=f\"s3://{default_bucket}/debugger/\",  # Required\n",
    "        collection_configs=[\n",
    "            CollectionConfig(\n",
    "                name=\"metrics\",\n",
    "                parameters={\n",
    "                    \"save_interval\": \"5\"\n",
    "                }),\n",
    "            CollectionConfig(\n",
    "                name=\"feature_importance\", parameters={\"save_interval\": \"5\"}\n",
    "            ),\n",
    "            CollectionConfig(name=\"full_shap\", parameters={\"save_interval\": \"5\"}),\n",
    "            CollectionConfig(name=\"average_shap\", parameters={\"save_interval\": \"5\"}),\n",
    "        ]\n",
    "    ),\n",
    "    rules=[\n",
    "        Rule.sagemaker(\n",
    "            rule_configs.loss_not_decreasing(),\n",
    "            rule_parameters={\n",
    "                \"collection_names\": \"metrics\",\n",
    "                \"num_steps\": \"10\",\n",
    "            },\n",
    "        ),\n",
    "    ]\n",
    ")"
   ]
  },
  {
   "cell_type": "code",
   "execution_count": 55,
   "id": "e169b25b-d0da-451b-bcf2-f31d0da1f60a",
   "metadata": {},
   "outputs": [
    {
     "name": "stderr",
     "output_type": "stream",
     "text": [
      "INFO:sagemaker:Creating training-job with name: demo-smdebug-xgboost-churn-classificati-2024-06-09-13-40-22-394\n"
     ]
    }
   ],
   "source": [
    "estimator.fit(\n",
    "        {\"train\":s3_input_train,\"validation\":s3_input_validation},wait=False\n",
    "    )"
   ]
  },
  {
   "cell_type": "code",
   "execution_count": 56,
   "id": "45c752c2-cb14-422a-b632-4320bef2c0db",
   "metadata": {},
   "outputs": [
    {
     "name": "stdout",
     "output_type": "stream",
     "text": [
      "Training job status: InProgress, Rule Evaluation Status: InProgress\n",
      "Training job status: InProgress, Rule Evaluation Status: InProgress\n",
      "Training job status: InProgress, Rule Evaluation Status: InProgress\n",
      "Training job status: InProgress, Rule Evaluation Status: InProgress\n",
      "Training job status: InProgress, Rule Evaluation Status: InProgress\n",
      "Training job status: InProgress, Rule Evaluation Status: InProgress\n",
      "Training job status: InProgress, Rule Evaluation Status: InProgress\n",
      "Training job status: InProgress, Rule Evaluation Status: InProgress\n",
      "Training job status: InProgress, Rule Evaluation Status: InProgress\n",
      "Training job status: InProgress, Rule Evaluation Status: InProgress\n",
      "Training job status: InProgress, Rule Evaluation Status: InProgress\n",
      "Training job status: InProgress, Rule Evaluation Status: InProgress\n",
      "Training job status: InProgress, Rule Evaluation Status: InProgress\n",
      "Training job status: InProgress, Rule Evaluation Status: InProgress\n",
      "Training job status: InProgress, Rule Evaluation Status: InProgress\n",
      "Training job status: InProgress, Rule Evaluation Status: InProgress\n",
      "Training job status: InProgress, Rule Evaluation Status: InProgress\n",
      "Training job status: Completed, Rule Evaluation Status: InProgress\n"
     ]
    }
   ],
   "source": [
    "for _ in range(36):\n",
    "    job_name = estimator.latest_training_job.name\n",
    "    client = estimator.sagemaker_session.sagemaker_client\n",
    "    description = client.describe_training_job(TrainingJobName=job_name)\n",
    "    training_job_status = description[\"TrainingJobStatus\"]\n",
    "    rule_job_summary = estimator.latest_training_job.rule_job_summary()\n",
    "    rule_evaluation_status = rule_job_summary[0][\"RuleEvaluationStatus\"]\n",
    "    print(\n",
    "        \"Training job status: {}, Rule Evaluation Status: {}\".format(\n",
    "            training_job_status, rule_evaluation_status\n",
    "        )\n",
    "    )\n",
    "    if training_job_status in [\"Completed\", \"Failed\"]:\n",
    "        break\n",
    "    time.sleep(10)"
   ]
  },
  {
   "cell_type": "code",
   "execution_count": 57,
   "id": "6d20fa76-dcbb-49e0-b490-9d827c7f2499",
   "metadata": {},
   "outputs": [
    {
     "data": {
      "text/plain": [
       "[{'RuleConfigurationName': 'LossNotDecreasing',\n",
       "  'RuleEvaluationJobArn': 'arn:aws:sagemaker:us-east-2:891376975801:processing-job/demo-smdebug-xgboost-churn-LossNotDecreasing-ae600e10',\n",
       "  'RuleEvaluationStatus': 'InProgress',\n",
       "  'LastModifiedTime': datetime.datetime(2024, 6, 9, 13, 44, 47, 395000, tzinfo=tzlocal())}]"
      ]
     },
     "execution_count": 57,
     "metadata": {},
     "output_type": "execute_result"
    }
   ],
   "source": [
    "estimator.latest_training_job.rule_job_summary()"
   ]
  },
  {
   "cell_type": "code",
   "execution_count": 59,
   "id": "822816dc-974f-403b-b7a6-4e0050bd809e",
   "metadata": {},
   "outputs": [
    {
     "name": "stdout",
     "output_type": "stream",
     "text": [
      "[2024-06-09 13:45:27.333 default:112 INFO s3_trial.py:42] Loading trial debug-output at path s3://sagemaker-studio-891376975801-3j1752jty8h/debugger/demo-smdebug-xgboost-churn-classificati-2024-06-09-13-40-22-394/debug-output\n",
      "[2024-06-09 13:45:28.025 default:112 INFO trial.py:197] Training has ended, will refresh one final time in 1 sec.\n",
      "[2024-06-09 13:45:29.041 default:112 INFO trial.py:210] Loaded all steps\n"
     ]
    },
    {
     "data": {
      "text/plain": [
       "['average_shap/f0',\n",
       " 'average_shap/f1',\n",
       " 'average_shap/f10',\n",
       " 'average_shap/f11',\n",
       " 'average_shap/f12',\n",
       " 'average_shap/f13',\n",
       " 'average_shap/f14',\n",
       " 'average_shap/f15',\n",
       " 'average_shap/f16',\n",
       " 'average_shap/f17',\n",
       " 'average_shap/f18',\n",
       " 'average_shap/f19',\n",
       " 'average_shap/f2',\n",
       " 'average_shap/f20',\n",
       " 'average_shap/f3',\n",
       " 'average_shap/f4',\n",
       " 'average_shap/f5',\n",
       " 'average_shap/f6',\n",
       " 'average_shap/f7',\n",
       " 'average_shap/f8',\n",
       " 'average_shap/f9',\n",
       " 'feature_importance/cover/f0',\n",
       " 'feature_importance/cover/f1',\n",
       " 'feature_importance/cover/f2',\n",
       " 'feature_importance/cover/f3',\n",
       " 'feature_importance/cover/f4',\n",
       " 'feature_importance/cover/f5',\n",
       " 'feature_importance/cover/f6',\n",
       " 'feature_importance/cover/f7',\n",
       " 'feature_importance/cover/f8',\n",
       " 'feature_importance/cover/f9',\n",
       " 'feature_importance/gain/f0',\n",
       " 'feature_importance/gain/f1',\n",
       " 'feature_importance/gain/f2',\n",
       " 'feature_importance/gain/f3',\n",
       " 'feature_importance/gain/f4',\n",
       " 'feature_importance/gain/f5',\n",
       " 'feature_importance/gain/f6',\n",
       " 'feature_importance/gain/f7',\n",
       " 'feature_importance/gain/f8',\n",
       " 'feature_importance/gain/f9',\n",
       " 'feature_importance/total_cover/f0',\n",
       " 'feature_importance/total_cover/f1',\n",
       " 'feature_importance/total_cover/f2',\n",
       " 'feature_importance/total_cover/f3',\n",
       " 'feature_importance/total_cover/f4',\n",
       " 'feature_importance/total_cover/f5',\n",
       " 'feature_importance/total_cover/f6',\n",
       " 'feature_importance/total_cover/f7',\n",
       " 'feature_importance/total_cover/f8',\n",
       " 'feature_importance/total_cover/f9',\n",
       " 'feature_importance/total_gain/f0',\n",
       " 'feature_importance/total_gain/f1',\n",
       " 'feature_importance/total_gain/f2',\n",
       " 'feature_importance/total_gain/f3',\n",
       " 'feature_importance/total_gain/f4',\n",
       " 'feature_importance/total_gain/f5',\n",
       " 'feature_importance/total_gain/f6',\n",
       " 'feature_importance/total_gain/f7',\n",
       " 'feature_importance/total_gain/f8',\n",
       " 'feature_importance/total_gain/f9',\n",
       " 'feature_importance/weight/f0',\n",
       " 'feature_importance/weight/f1',\n",
       " 'feature_importance/weight/f2',\n",
       " 'feature_importance/weight/f3',\n",
       " 'feature_importance/weight/f4',\n",
       " 'feature_importance/weight/f5',\n",
       " 'feature_importance/weight/f6',\n",
       " 'feature_importance/weight/f7',\n",
       " 'feature_importance/weight/f8',\n",
       " 'feature_importance/weight/f9',\n",
       " 'full_shap/f0',\n",
       " 'full_shap/f1',\n",
       " 'full_shap/f10',\n",
       " 'full_shap/f11',\n",
       " 'full_shap/f12',\n",
       " 'full_shap/f13',\n",
       " 'full_shap/f14',\n",
       " 'full_shap/f15',\n",
       " 'full_shap/f16',\n",
       " 'full_shap/f17',\n",
       " 'full_shap/f18',\n",
       " 'full_shap/f19',\n",
       " 'full_shap/f2',\n",
       " 'full_shap/f20',\n",
       " 'full_shap/f3',\n",
       " 'full_shap/f4',\n",
       " 'full_shap/f5',\n",
       " 'full_shap/f6',\n",
       " 'full_shap/f7',\n",
       " 'full_shap/f8',\n",
       " 'full_shap/f9',\n",
       " 'train-auc',\n",
       " 'validation-auc']"
      ]
     },
     "execution_count": 59,
     "metadata": {},
     "output_type": "execute_result"
    }
   ],
   "source": [
    "s3_output_path = estimator.latest_job_debugger_artifacts_path()\n",
    "trial = create_trial(s3_output_path)\n",
    "trial.tensor_names()"
   ]
  },
  {
   "cell_type": "code",
   "execution_count": 60,
   "id": "43f81b32-4938-4d22-85d2-81c977e13ea4",
   "metadata": {},
   "outputs": [
    {
     "data": {
      "image/png": "[encoded data removed]",
      "text/plain": [
       "<Figure size 800x950 with 1 Axes>"
      ]
     },
     "metadata": {},
     "output_type": "display_data"
    }
   ],
   "source": [
    "shap_values = trial.tensor(\"full_shap/f0\").value(trial.last_complete_step)\n",
    "shap_no_base = shap_values[:, :-1]\n",
    "shap_base_value = shap_values[0, -1]\n",
    "shap.summary_plot(shap_no_base, plot_type=\"bar\", feature_names=feature_names)"
   ]
  },
  {
   "cell_type": "code",
   "execution_count": 61,
   "id": "455d37db-e2b4-49ec-8759-85e0de2981ff",
   "metadata": {},
   "outputs": [],
   "source": [
    "train_shap = pd.DataFrame(train[:,1:],columns=feature_names)"
   ]
  },
  {
   "cell_type": "code",
   "execution_count": 62,
   "id": "98604e11-47f4-4407-93ed-09a214027aa0",
   "metadata": {},
   "outputs": [
    {
     "data": {
      "image/png": "[encoded data removed]",
      "text/plain": [
       "<Figure size 800x950 with 2 Axes>"
      ]
     },
     "metadata": {},
     "output_type": "display_data"
    }
   ],
   "source": [
    "shap.summary_plot(shap_no_base, train_shap)"
   ]
  },
  {
   "cell_type": "code",
   "execution_count": null,
   "id": "849e2a80-9568-4730-aa42-8b669ad453c4",
   "metadata": {},
   "outputs": [],
   "source": [
    "# processing step for feature engineering\n",
    "sklearn_processor = SKLearnProcessor(\n",
    "    framework_version=\"0.23-1\",\n",
    "    instance_type=processing_instance_type,\n",
    "    instance_count=processing_instance_count,\n",
    "    sagemaker_session=sagemaker_session,\n",
    "    role=role,\n",
    ")\n",
    "step_process = ProcessingStep(\n",
    "    name=\"ChurnModelProcess\",\n",
    "    processor=sklearn_processor,\n",
    "    inputs=[\n",
    "      ProcessingInput(source=input_data, destination=\"/opt/ml/processing/input\"),  \n",
    "    ],\n",
    "    outputs=[\n",
    "        ProcessingOutput(output_name=\"train\", source=\"/opt/ml/processing/train\",\\\n",
    "                         destination=f\"s3://{default_bucket}/output/train\" ),\n",
    "        ProcessingOutput(output_name=\"validation\", source=\"/opt/ml/processing/validation\",\\\n",
    "                        destination=f\"s3://{default_bucket}/output/validation\"),\n",
    "        ProcessingOutput(output_name=\"test\", source=\"/opt/ml/processing/test\",\\\n",
    "                        destination=f\"s3://{default_bucket}/output/test\")\n",
    "    ],\n",
    "    code=f\"s3://{default_bucket}/input/code/preprocess.py\",\n",
    ")"
   ]
  }
 ],
 "metadata": {
  "kernelspec": {
   "display_name": "Python 3 (ipykernel)",
   "language": "python",
   "name": "python3"
  },
  "language_info": {
   "codemirror_mode": {
    "name": "ipython",
    "version": 3
   },
   "file_extension": ".py",
   "mimetype": "text/x-python",
   "name": "python",
   "nbconvert_exporter": "python",
   "pygments_lexer": "ipython3",
   "version": "3.10.14"
  }
 },
 "nbformat": 4,
 "nbformat_minor": 5
}
