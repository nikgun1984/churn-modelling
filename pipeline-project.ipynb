{
 "cells": [
  {
   "cell_type": "code",
   "execution_count": 43,
   "id": "d7281f00-9ef6-4cf7-ab2e-e0367c92a0e0",
   "metadata": {},
   "outputs": [],
   "source": [
    "import boto3\n",
    "import sagemaker\n",
    "import datetime as dt\n",
    "import pandas as pd"
   ]
  },
  {
   "cell_type": "code",
   "execution_count": null,
   "id": "044ad220-ae81-4112-b90e-df1389e697dd",
   "metadata": {},
   "outputs": [],
   "source": [
    "### Submit the pipeline to SageMaker and start execution"
   ]
  },
  {
   "cell_type": "code",
   "execution_count": 44,
   "id": "5c3a0bdb-1963-4365-a0eb-c908eeb6b372",
   "metadata": {},
   "outputs": [
    {
     "name": "stderr",
     "output_type": "stream",
     "text": [
      "INFO:sagemaker.image_uris:Defaulting to only available Python version: py3\n",
      "INFO:sagemaker.image_uris:Defaulting to only supported image scope: cpu.\n"
     ]
    }
   ],
   "source": [
    "region = boto3.Session().region_name\n",
    "role = sagemaker.get_execution_role()\n",
    "sagemaker_session = sagemaker.Session()\n",
    "sklearn_processor_version=\"0.23-1\"\n",
    "model_package_group_name=\"ChurnModelPackageGroup\"\n",
    "pipeline_name= \"ChurnModelSMPipeline\"\n",
    "clarify_image = sagemaker.image_uris.retrieve(framework='sklearn',version=sklearn_processor_version,region=region)"
   ]
  },
  {
   "cell_type": "code",
   "execution_count": 45,
   "id": "dc02a337-7711-43dc-8d7d-d1448d776aa7",
   "metadata": {},
   "outputs": [],
   "source": [
    "def preprocess_data(file_path):\n",
    "    df = pd.read_csv(file_path)\n",
    "    ## Convert to datetime columns\n",
    "    df[\"firstorder\"]=pd.to_datetime(df[\"firstorder\"],errors='coerce')\n",
    "    df[\"lastorder\"] = pd.to_datetime(df[\"lastorder\"],errors='coerce')\n",
    "    ## Drop Rows with null values\n",
    "    df = df.dropna()\n",
    "    ## Create Column which gives the days between the last order and the first order\n",
    "    df[\"first_last_days_diff\"] = (df['lastorder']-df['firstorder']).dt.days\n",
    "    ## Create Column which gives the days between when the customer record was created and the first order\n",
    "    df['created'] = pd.to_datetime(df['created'])\n",
    "    df['created_first_days_diff']=(df['created']-df['firstorder']).dt.days\n",
    "    ## Drop Columns\n",
    "    df.drop(['custid','created','firstorder','lastorder'],axis=1,inplace=True)\n",
    "    ## Apply one hot encoding on favday and city columns\n",
    "    df = pd.get_dummies(df,prefix=['favday','city'],columns=['favday','city'])\n",
    "    return df"
   ]
  },
  {
   "cell_type": "code",
   "execution_count": 46,
   "id": "da93bffd-127a-439a-8a72-554375da18b3",
   "metadata": {},
   "outputs": [],
   "source": [
    "default_bucket_data = 'sagemaker-studio-891376975801-3j1752jty8h'\n",
    "baseline_data = preprocess_data(f\"s3://{default_bucket_data}/data/storedata_total.csv\")\n",
    "baseline_data.pop(\"retained\")\n",
    "baseline_sample = baseline_data.sample(frac=0.0002)"
   ]
  },
  {
   "cell_type": "code",
   "execution_count": 47,
   "id": "3afb832e-877e-4b7e-ad50-ac4bed811ffb",
   "metadata": {},
   "outputs": [],
   "source": [
    "pd.DataFrame(baseline_sample).to_csv(f\"s3://{default_bucket_data}/data/baseline.csv\",header=False,index=False)"
   ]
  },
  {
   "cell_type": "code",
   "execution_count": 48,
   "id": "68b428ea-84aa-40b9-925d-9fee57df360f",
   "metadata": {},
   "outputs": [],
   "source": [
    "batch_data = preprocess_data(f\"s3://{default_bucket_data}/data/storedata_total.csv\")\n",
    "batch_data.pop(\"retained\")\n",
    "batch_sample = batch_data.sample(frac=0.2)"
   ]
  },
  {
   "cell_type": "code",
   "execution_count": 49,
   "id": "a0699be9-862e-4778-9bb0-4812c98ade01",
   "metadata": {},
   "outputs": [],
   "source": [
    "pd.DataFrame(batch_sample).to_csv(f\"s3://{default_bucket_data}/data/batch.csv\",header=False,index=False)"
   ]
  },
  {
   "cell_type": "code",
   "execution_count": 23,
   "id": "7ba950f9-5a58-4afe-af49-2b791ab707aa",
   "metadata": {},
   "outputs": [
    {
     "data": {
      "text/plain": [
       "s3.Bucket(name='sagemaker-studio-891376975801-pwz3ttqzi5n')"
      ]
     },
     "execution_count": 23,
     "metadata": {},
     "output_type": "execute_result"
    }
   ],
   "source": [
    "s3_client = boto3.resource('s3')\n",
    "s3_client.Bucket(default_bucket)\n",
    "# s3_client.Bucket(default_bucket).upload_file(f\"s3://{default_bucket_data}/data/storedata_total.csv\",f\"s3://{default_bucket}/data/storedata_total.csv\")\n",
    "# s3_client.Bucket(default_bucket).upload_file(f\"s3://{default_bucket_data}/data/batch.csv\",f\"s3://{default_bucket}/data/batch.csv\")\n",
    "# s3_client.Bucket(default_bucket).upload_file(f\"s3://{default_bucket_data}/data/baseline.csv\",f\"s3://{default_bucket}/data/baseline.csv\")"
   ]
  },
  {
   "cell_type": "code",
   "execution_count": 26,
   "id": "16857410-5c8f-4738-9323-1cb6504b3626",
   "metadata": {},
   "outputs": [],
   "source": [
    "s3_client.Bucket(default_bucket).upload_file(\"churn-modelling/pipelines/customerchurn/preprocess.py\",\"input/code/preprocess.py\")"
   ]
  },
  {
   "cell_type": "code",
   "execution_count": 27,
   "id": "1f3e3800-7069-4e56-858e-8c8480a0a0f7",
   "metadata": {},
   "outputs": [],
   "source": [
    "s3_client.Bucket(default_bucket).upload_file(\"churn-modelling/pipelines/customerchurn/evaluate.py\",\"input/code/evaluate.py\")\n",
    "s3_client.Bucket(default_bucket).upload_file(\"churn-modelling/pipelines/customerchurn/generate_config.py\",\"input/code/generate_config.py\")"
   ]
  },
  {
   "cell_type": "code",
   "execution_count": 29,
   "id": "05f3e1b1-1350-4bd5-80a7-21d99055d292",
   "metadata": {},
   "outputs": [
    {
     "name": "stdout",
     "output_type": "stream",
     "text": [
      "Collecting pipelines\n",
      "  Downloading pipelines-0.0.14.tar.gz (161 kB)\n",
      "\u001b[2K     \u001b[90m━━━━━━━━━━━━━━━━━━━━━━━━━━━━━━━━━━━━━━━\u001b[0m \u001b[32m161.9/161.9 kB\u001b[0m \u001b[31m7.0 MB/s\u001b[0m eta \u001b[36m0:00:00\u001b[0m\n",
      "\u001b[?25h  Preparing metadata (setup.py) ... \u001b[?25ldone\n",
      "\u001b[?25hCollecting futures==3.0.5 (from pipelines)\n",
      "  Downloading futures-3.0.5.tar.gz (25 kB)\n",
      "  Preparing metadata (setup.py) ... \u001b[?25ldone\n",
      "\u001b[?25hCollecting Jinja2==2.8 (from pipelines)\n",
      "  Downloading Jinja2-2.8-py2.py3-none-any.whl.metadata (2.1 kB)\n",
      "Collecting PyYAML==3.11 (from pipelines)\n",
      "  Downloading PyYAML-3.11.zip (371 kB)\n",
      "\u001b[2K     \u001b[90m━━━━━━━━━━━━━━━━━━━━━━━━━━━━━━━━━━━━━━\u001b[0m \u001b[32m371.8/371.8 kB\u001b[0m \u001b[31m52.6 MB/s\u001b[0m eta \u001b[36m0:00:00\u001b[0m\n",
      "\u001b[?25h  Preparing metadata (setup.py) ... \u001b[?25ldone\n",
      "\u001b[?25hCollecting requests==2.9.1 (from pipelines)\n",
      "  Downloading requests-2.9.1-py2.py3-none-any.whl.metadata (36 kB)\n",
      "Collecting sh==1.11 (from pipelines)\n",
      "  Downloading sh-1.11.tar.gz (36 kB)\n",
      "  Preparing metadata (setup.py) ... \u001b[?25ldone\n",
      "\u001b[?25hCollecting tornado==4.3 (from pipelines)\n",
      "  Downloading tornado-4.3.tar.gz (450 kB)\n",
      "\u001b[2K     \u001b[90m━━━━━━━━━━━━━━━━━━━━━━━━━━━━━━━━━━━━━━\u001b[0m \u001b[32m450.9/450.9 kB\u001b[0m \u001b[31m52.7 MB/s\u001b[0m eta \u001b[36m0:00:00\u001b[0m\n",
      "\u001b[?25h  Preparing metadata (setup.py) ... \u001b[?25ldone\n",
      "\u001b[?25hCollecting docopt==0.6.2 (from pipelines)\n",
      "  Downloading docopt-0.6.2.tar.gz (25 kB)\n",
      "  Preparing metadata (setup.py) ... \u001b[?25ldone\n",
      "\u001b[?25hCollecting dotmap==1.1.16 (from pipelines)\n",
      "  Downloading dotmap-1.1.16.tar.gz (3.0 kB)\n",
      "  Preparing metadata (setup.py) ... \u001b[?25ldone\n",
      "\u001b[?25hCollecting schema==0.5.0 (from pipelines)\n",
      "  Downloading schema-0.5.0.tar.gz (8.8 kB)\n",
      "  Preparing metadata (setup.py) ... \u001b[?25ldone\n",
      "\u001b[?25hCollecting filelock==2.0.6 (from pipelines)\n",
      "  Downloading filelock-2.0.6.tar.gz (5.0 kB)\n",
      "  Preparing metadata (setup.py) ... \u001b[?25ldone\n",
      "\u001b[?25hRequirement already satisfied: MarkupSafe in /opt/conda/lib/python3.10/site-packages (from Jinja2==2.8->pipelines) (2.1.5)\n",
      "Downloading Jinja2-2.8-py2.py3-none-any.whl (263 kB)\n",
      "\u001b[2K   \u001b[90m━━━━━━━━━━━━━━━━━━━━━━━━━━━━━━━━━━━━━━━━\u001b[0m \u001b[32m263.9/263.9 kB\u001b[0m \u001b[31m38.5 MB/s\u001b[0m eta \u001b[36m0:00:00\u001b[0m\n",
      "\u001b[?25hDownloading requests-2.9.1-py2.py3-none-any.whl (501 kB)\n",
      "\u001b[2K   \u001b[90m━━━━━━━━━━━━━━━━━━━━━━━━━━━━━━━━━━━━━━━━\u001b[0m \u001b[32m501.2/501.2 kB\u001b[0m \u001b[31m45.0 MB/s\u001b[0m eta \u001b[36m0:00:00\u001b[0m\n",
      "\u001b[?25hBuilding wheels for collected packages: pipelines, docopt, dotmap, filelock, futures, PyYAML, schema, sh, tornado\n",
      "  Building wheel for pipelines (setup.py) ... \u001b[?25ldone\n",
      "\u001b[?25h  Created wheel for pipelines: filename=pipelines-0.0.14-py3-none-any.whl size=166312 sha256=bdb36c139bc1c5e02a969772d889c27285f556d1514e49d3d8be56226843db1b\n",
      "  Stored in directory: /home/sagemaker-user/.cache/pip/wheels/41/c7/f6/d438cb9d11a9ab2cc4a5f0a2715677cd9d56c5564f42b96253\n",
      "  Building wheel for docopt (setup.py) ... \u001b[?25ldone\n",
      "\u001b[?25h  Created wheel for docopt: filename=docopt-0.6.2-py2.py3-none-any.whl size=13706 sha256=42a536ddbae63d94dee2e09019418a274d8e38a547966875c027e758429c6f95\n",
      "  Stored in directory: /home/sagemaker-user/.cache/pip/wheels/fc/ab/d4/5da2067ac95b36618c629a5f93f809425700506f72c9732fac\n",
      "  Building wheel for dotmap (setup.py) ... \u001b[?25ldone\n",
      "\u001b[?25h  Created wheel for dotmap: filename=dotmap-1.1.16-py3-none-any.whl size=2625 sha256=9718eca6da5d4e2c59935a2fb985574681dbe06f1e89b94689e3a70f4188b0cc\n",
      "  Stored in directory: /home/sagemaker-user/.cache/pip/wheels/51/1e/33/79d1c218107ccf2298f9961a5e87e06c7dbc7418d9eea9b6d9\n",
      "  Building wheel for filelock (setup.py) ... \u001b[?25ldone\n",
      "\u001b[?25h  Created wheel for filelock: filename=filelock-2.0.6-py3-none-any.whl size=8328 sha256=6fcfc89fb403994dee2e915c564c1df74e868ee9a5be1314454aa311726c1ef9\n",
      "  Stored in directory: /home/sagemaker-user/.cache/pip/wheels/72/d9/a3/c5b26e8df4826808545724fab7aa0410e5722b59e2e5a3edab\n",
      "  Building wheel for futures (setup.py) ... \u001b[?25ldone\n",
      "\u001b[?25h  Created wheel for futures: filename=futures-3.0.5-py3-none-any.whl size=14067 sha256=9dc52040cac77549b57ee18babeebd149cff3c920f82b69dd6272df7e3db9086\n",
      "  Stored in directory: /home/sagemaker-user/.cache/pip/wheels/ef/af/93/48739d464ba97d4cdc77c627d282f9794c8d276e42aaa92160\n",
      "  Building wheel for PyYAML (setup.py) ... \u001b[?25ldone\n",
      "\u001b[?25h  Created wheel for PyYAML: filename=PyYAML-3.11-cp310-cp310-linux_x86_64.whl size=42960 sha256=3ec9b5fb0fe3ebbd25a588c270e45a3e00476242715a2a6507b1faa04a22b5d8\n",
      "  Stored in directory: /home/sagemaker-user/.cache/pip/wheels/f9/e1/96/334efb4a2abc830e5eaff69ff65f2372e9c4ea8f54751a817c\n",
      "  Building wheel for schema (setup.py) ... \u001b[?25ldone\n",
      "\u001b[?25h  Created wheel for schema: filename=schema-0.5.0-py3-none-any.whl size=7904 sha256=0373b3f241f46a9edbb6d5aa54b7e851c10e5ef172801ce9a6ce60e680173de1\n",
      "  Stored in directory: /home/sagemaker-user/.cache/pip/wheels/7d/30/0e/5ac55037d7b0ff2ed831853af00f2ac8f785b6774b1ab2d4df\n",
      "  Building wheel for sh (setup.py) ... \u001b[?25ldone\n",
      "\u001b[?25h  Created wheel for sh: filename=sh-1.11-py3-none-any.whl size=25009 sha256=2826505b2334868e9370cced1ebe1dc7f77c3387988bbb8a0487da63c30eee07\n",
      "  Stored in directory: /home/sagemaker-user/.cache/pip/wheels/42/a2/5a/155d4219db10b39df8adcd1eb26145b991ac414c8969215487\n",
      "  Building wheel for tornado (setup.py) ... \u001b[?25ldone\n",
      "\u001b[?25h  Created wheel for tornado: filename=tornado-4.3-cp310-cp310-linux_x86_64.whl size=394513 sha256=4fdaff838c901ebed13f7e794d57f9ca8ffd64debf0a24ce891b72375630dc6f\n",
      "  Stored in directory: /home/sagemaker-user/.cache/pip/wheels/50/72/b2/cc30e1ecf3eb3a9df5181e0dd07494a92e173ffed3a645e25e\n",
      "Successfully built pipelines docopt dotmap filelock futures PyYAML schema sh tornado\n",
      "\u001b[33mWARNING: Error parsing requirements for fsspec: [Errno 2] No such file or directory: '/opt/conda/lib/python3.10/site-packages/fsspec-2023.6.0.dist-info/METADATA'\u001b[0m\u001b[33m\n",
      "\u001b[0mInstalling collected packages: tornado, sh, schema, requests, PyYAML, futures, filelock, dotmap, docopt, Jinja2, pipelines\n",
      "  Attempting uninstall: tornado\n",
      "    Found existing installation: tornado 6.4\n",
      "    Uninstalling tornado-6.4:\n",
      "      Successfully uninstalled tornado-6.4\n",
      "  Attempting uninstall: schema\n",
      "    Found existing installation: schema 0.7.7\n",
      "    Uninstalling schema-0.7.7:\n",
      "      Successfully uninstalled schema-0.7.7\n",
      "  Attempting uninstall: requests\n",
      "    Found existing installation: requests 2.31.0\n",
      "    Uninstalling requests-2.31.0:\n",
      "      Successfully uninstalled requests-2.31.0\n",
      "  Attempting uninstall: PyYAML\n",
      "    Found existing installation: PyYAML 6.0.1\n",
      "    Uninstalling PyYAML-6.0.1:\n",
      "      Successfully uninstalled PyYAML-6.0.1\n",
      "  Attempting uninstall: filelock\n",
      "    Found existing installation: filelock 3.14.0\n",
      "    Uninstalling filelock-3.14.0:\n",
      "      Successfully uninstalled filelock-3.14.0\n",
      "  Attempting uninstall: Jinja2\n",
      "    Found existing installation: Jinja2 3.1.4\n",
      "    Uninstalling Jinja2-3.1.4:\n",
      "      Successfully uninstalled Jinja2-3.1.4\n",
      "\u001b[31mERROR: pip's dependency resolver does not currently take into account all the packages that are installed. This behaviour is the source of the following dependency conflicts.\n",
      "dash 2.17.0 requires dash-core-components==2.0.0, which is not installed.\n",
      "dash 2.17.0 requires dash-html-components==2.0.0, which is not installed.\n",
      "dash 2.17.0 requires dash-table==5.0.0, which is not installed.\n",
      "dask 2024.5.0 requires fsspec>=2021.09.0, which is not installed.\n",
      "datasets 2.19.1 requires fsspec[http]<=2024.3.1,>=2023.1.0, which is not installed.\n",
      "evaluate 0.4.1 requires fsspec[http]>=2021.05.0, which is not installed.\n",
      "huggingface-hub 0.23.0 requires fsspec>=2023.5.0, which is not installed.\n",
      "jupyter-ai 2.15.0 requires faiss-cpu, which is not installed.\n",
      "pytorch-lightning 2.0.9 requires fsspec[http]>2021.06.0, which is not installed.\n",
      "autogluon-core 0.8.3 requires pandas<1.6,>=1.4.1, but you have pandas 2.1.4 which is incompatible.\n",
      "autogluon-core 0.8.3 requires scikit-learn<1.4.1,>=1.1, but you have scikit-learn 1.4.2 which is incompatible.\n",
      "autogluon-multimodal 0.8.3 requires jinja2<3.2,>=3.0.3, but you have jinja2 2.8 which is incompatible.\n",
      "autogluon-multimodal 0.8.3 requires pandas<1.6,>=1.4.1, but you have pandas 2.1.4 which is incompatible.\n",
      "autogluon-multimodal 0.8.3 requires pytorch-lightning<1.10.0,>=1.9.0, but you have pytorch-lightning 2.0.9 which is incompatible.\n",
      "autogluon-multimodal 0.8.3 requires requests<3,>=2.21, but you have requests 2.9.1 which is incompatible.\n",
      "autogluon-multimodal 0.8.3 requires scikit-learn<1.4.1,>=1.1, but you have scikit-learn 1.4.2 which is incompatible.\n",
      "autogluon-multimodal 0.8.3 requires torch<1.14,>=1.9, but you have torch 2.0.0.post104 which is incompatible.\n",
      "autogluon-multimodal 0.8.3 requires torchmetrics<0.12.0,>=0.11.0, but you have torchmetrics 1.0.3 which is incompatible.\n",
      "autogluon-multimodal 0.8.3 requires torchvision<0.15.0, but you have torchvision 0.15.2a0+ab7b3e6 which is incompatible.\n",
      "autogluon-tabular 0.8.3 requires pandas<1.6,>=1.4.1, but you have pandas 2.1.4 which is incompatible.\n",
      "autogluon-tabular 0.8.3 requires scikit-learn<1.4.1,>=1.1, but you have scikit-learn 1.4.2 which is incompatible.\n",
      "autogluon-timeseries 0.8.3 requires pandas<1.6,>=1.4.1, but you have pandas 2.1.4 which is incompatible.\n",
      "autogluon-timeseries 0.8.3 requires pytorch-lightning<1.10.0,>=1.7.4, but you have pytorch-lightning 2.0.9 which is incompatible.\n",
      "autogluon-timeseries 0.8.3 requires torch<1.14,>=1.9, but you have torch 2.0.0.post104 which is incompatible.\n",
      "conda 23.11.0 requires requests<3,>=2.28.0, but you have requests 2.9.1 which is incompatible.\n",
      "cookiecutter 2.6.0 requires pyyaml>=5.3.1, but you have pyyaml 3.11 which is incompatible.\n",
      "cookiecutter 2.6.0 requires requests>=2.23.0, but you have requests 2.9.1 which is incompatible.\n",
      "dask 2024.5.0 requires pyyaml>=5.3.1, but you have pyyaml 3.11 which is incompatible.\n",
      "datasets 2.19.1 requires pyyaml>=5.1, but you have pyyaml 3.11 which is incompatible.\n",
      "datasets 2.19.1 requires requests>=2.19.0, but you have requests 2.9.1 which is incompatible.\n",
      "distributed 2024.5.0 requires jinja2>=2.10.3, but you have jinja2 2.8 which is incompatible.\n",
      "distributed 2024.5.0 requires pyyaml>=5.3.1, but you have pyyaml 3.11 which is incompatible.\n",
      "distributed 2024.5.0 requires tornado>=6.0.4, but you have tornado 4.3 which is incompatible.\n",
      "docker 7.0.0 requires requests>=2.26.0, but you have requests 2.9.1 which is incompatible.\n",
      "evaluate 0.4.1 requires requests>=2.19.0, but you have requests 2.9.1 which is incompatible.\n",
      "flask 3.0.3 requires Jinja2>=3.1.2, but you have jinja2 2.8 which is incompatible.\n",
      "huggingface-hub 0.23.0 requires pyyaml>=5.1, but you have pyyaml 3.11 which is incompatible.\n",
      "ipykernel 6.29.3 requires tornado>=6.1, but you have tornado 4.3 which is incompatible.\n",
      "jupyter-client 8.6.1 requires tornado>=6.2, but you have tornado 4.3 which is incompatible.\n",
      "jupyter-events 0.6.3 requires pyyaml>=5.3, but you have pyyaml 3.11 which is incompatible.\n",
      "jupyter-server 2.10.0 requires tornado>=6.2.0, but you have tornado 4.3 which is incompatible.\n",
      "jupyter-server-proxy 4.1.2 requires tornado>=5.1, but you have tornado 4.3 which is incompatible.\n",
      "jupyterlab 4.1.6 requires jinja2>=3.0.3, but you have jinja2 2.8 which is incompatible.\n",
      "jupyterlab 4.1.6 requires tornado>=6.2.0, but you have tornado 4.3 which is incompatible.\n",
      "jupyterlab-server 2.24.0 requires jinja2>=3.0.3, but you have jinja2 2.8 which is incompatible.\n",
      "jupyterlab-server 2.24.0 requires requests>=2.28, but you have requests 2.9.1 which is incompatible.\n",
      "langchain 0.1.9 requires PyYAML>=5.3, but you have pyyaml 3.11 which is incompatible.\n",
      "langchain-community 0.0.38 requires PyYAML>=5.3, but you have pyyaml 3.11 which is incompatible.\n",
      "langchain-core 0.1.52 requires PyYAML>=5.3, but you have pyyaml 3.11 which is incompatible.\n",
      "nbconvert 7.16.4 requires jinja2>=3.0, but you have jinja2 2.8 which is incompatible.\n",
      "nbdime 4.0.1 requires jinja2>=2.9, but you have jinja2 2.8 which is incompatible.\n",
      "nlpaug 1.1.11 requires requests>=2.22.0, but you have requests 2.9.1 which is incompatible.\n",
      "notebook 7.1.3 requires tornado>=6.2.0, but you have tornado 4.3 which is incompatible.\n",
      "omegaconf 2.2.3 requires PyYAML>=5.1.0, but you have pyyaml 3.11 which is incompatible.\n",
      "pytorch-lightning 2.0.9 requires PyYAML>=5.4, but you have pyyaml 3.11 which is incompatible.\n",
      "redshift-connector 2.1.0 requires requests<3.0.0,>=2.23.0, but you have requests 2.9.1 which is incompatible.\n",
      "sagemaker 2.219.0 requires PyYAML~=6.0, but you have pyyaml 3.11 which is incompatible.\n",
      "sagemaker-studio-analytics-extension 0.0.21 requires filelock>=3.0.12, but you have filelock 2.0.6 which is incompatible.\n",
      "snowflake-connector-python 3.10.0 requires filelock<4,>=3.5, but you have filelock 2.0.6 which is incompatible.\n",
      "spacy 3.7.3 requires requests<3.0.0,>=2.13.0, but you have requests 2.9.1 which is incompatible.\n",
      "sparkmagic 0.21.0 requires pandas<2.0.0,>=0.17.1, but you have pandas 2.1.4 which is incompatible.\n",
      "tensorboard 2.15.2 requires requests<3,>=2.21.0, but you have requests 2.9.1 which is incompatible.\n",
      "terminado 0.18.1 requires tornado>=6.1.0, but you have tornado 4.3 which is incompatible.\n",
      "transformers 4.40.2 requires pyyaml>=5.1, but you have pyyaml 3.11 which is incompatible.\n",
      "weasel 0.3.4 requires requests<3.0.0,>=2.13.0, but you have requests 2.9.1 which is incompatible.\u001b[0m\u001b[31m\n",
      "\u001b[0mSuccessfully installed Jinja2-2.8 PyYAML-3.11 docopt-0.6.2 dotmap-1.1.16 filelock-2.0.6 futures-3.0.5 pipelines-0.0.14 requests-2.9.1 schema-0.5.0 sh-1.11 tornado-4.3\n"
     ]
    }
   ],
   "source": [
    "!pip install pipelines"
   ]
  },
  {
   "cell_type": "code",
   "execution_count": 50,
   "id": "5204fb4a-5297-4e11-aee5-1e6c12e1c8af",
   "metadata": {},
   "outputs": [
    {
     "name": "stderr",
     "output_type": "stream",
     "text": [
      "WARNING:sagemaker.workflow.utilities:The input argument instance_type of function (sagemaker.image_uris.retrieve) is a pipeline variable (<class 'sagemaker.workflow.parameters.ParameterString'>), which is interpreted in pipeline execution time only. As the function needs to evaluate the argument value in SDK compile time, the default_value of this Parameter object will be used to override it. Please make sure the default_value is valid.\n",
      "INFO:sagemaker.image_uris:Defaulting to only available Python version: py3\n",
      "WARNING:sagemaker.workflow.utilities:The input argument instance_type of function (sagemaker.image_uris.retrieve) is a pipeline variable (<class 'sagemaker.workflow.parameters.ParameterString'>), which is interpreted in pipeline execution time only. As the function needs to evaluate the argument value in SDK compile time, the default_value of this Parameter object will be used to override it. Please make sure the default_value is valid.\n",
      "INFO:sagemaker.image_uris:Defaulting to the only supported framework/algorithm version: 1.0.\n",
      "INFO:sagemaker.image_uris:Ignoring unnecessary instance type: None.\n",
      "WARNING:sagemaker.deprecations:The class JsonGet has been renamed in sagemaker>=2.\n",
      "See: https://sagemaker.readthedocs.io/en/stable/v2.html for details.\n"
     ]
    }
   ],
   "source": [
    "from churn_modelling.pipelines.customerchurn.pipeline import get_pipeline\n",
    "\n",
    "pipeline = get_pipeline(\n",
    "    region = region,\n",
    "    role=role,\n",
    "    default_bucket=default_bucket_data,\n",
    "    model_package_group_name=model_package_group_name,\n",
    "    pipeline_name=pipeline_name,\n",
    "    custom_image_uri=clarify_image,\n",
    "    sklearn_processor_version=sklearn_processor_version\n",
    ")"
   ]
  },
  {
   "cell_type": "code",
   "execution_count": 51,
   "id": "8bd9e2e9-d83a-4358-b695-45ef15291ac7",
   "metadata": {},
   "outputs": [
    {
     "name": "stderr",
     "output_type": "stream",
     "text": [
      "WARNING:sagemaker.workflow.utilities:Popping out 'ProcessingJobName' from the pipeline definition by default since it will be overridden at pipeline execution time. Please utilize the PipelineDefinitionConfig to persist this field in the pipeline definition if desired.\n",
      "WARNING:sagemaker.estimator:No finished training job found associated with this estimator. Please make sure this estimator is only used for building workflow config\n",
      "WARNING:sagemaker.estimator:No finished training job found associated with this estimator. Please make sure this estimator is only used for building workflow config\n",
      "WARNING:sagemaker.workflow.utilities:Popping out 'HyperParameterTuningJobName' from the pipeline definition by default since it will be overridden at pipeline execution time. Please utilize the PipelineDefinitionConfig to persist this field in the pipeline definition if desired.\n",
      "WARNING:sagemaker.workflow.utilities:Popping out 'ProcessingJobName' from the pipeline definition by default since it will be overridden at pipeline execution time. Please utilize the PipelineDefinitionConfig to persist this field in the pipeline definition if desired.\n",
      "WARNING:sagemaker.estimator:No finished training job found associated with this estimator. Please make sure this estimator is only used for building workflow config\n",
      "WARNING:sagemaker.workflow._utils:Popping out 'CertifyForMarketplace' from the pipeline definition since it will be overridden in pipeline execution time.\n",
      "WARNING:sagemaker.workflow.utilities:Popping out 'ModelPackageName' from the pipeline definition by default since it will be overridden at pipeline execution time. Please utilize the PipelineDefinitionConfig to persist this field in the pipeline definition if desired.\n",
      "WARNING:sagemaker.workflow.utilities:Popping out 'ModelName' from the pipeline definition by default since it will be overridden at pipeline execution time. Please utilize the PipelineDefinitionConfig to persist this field in the pipeline definition if desired.\n",
      "WARNING:sagemaker.workflow.utilities:Popping out 'ProcessingJobName' from the pipeline definition by default since it will be overridden at pipeline execution time. Please utilize the PipelineDefinitionConfig to persist this field in the pipeline definition if desired.\n",
      "WARNING:sagemaker.workflow.utilities:Popping out 'TransformJobName' from the pipeline definition by default since it will be overridden at pipeline execution time. Please utilize the PipelineDefinitionConfig to persist this field in the pipeline definition if desired.\n",
      "WARNING:sagemaker.workflow.utilities:Popping out 'ProcessingJobName' from the pipeline definition by default since it will be overridden at pipeline execution time. Please utilize the PipelineDefinitionConfig to persist this field in the pipeline definition if desired.\n"
     ]
    },
    {
     "data": {
      "text/plain": [
       "'{\"Version\": \"2020-12-01\", \"Metadata\": {}, \"Parameters\": [{\"Name\": \"ProcessingInstanceType\", \"Type\": \"String\", \"DefaultValue\": \"ml.m5.xlarge\"}, {\"Name\": \"ProcessingInstanceCount\", \"Type\": \"Integer\", \"DefaultValue\": 1}, {\"Name\": \"TrainingInstanceType\", \"Type\": \"String\", \"DefaultValue\": \"ml.m5.xlarge\"}, {\"Name\": \"InputData\", \"Type\": \"String\", \"DefaultValue\": \"s3://sagemaker-studio-891376975801-3j1752jty8h/data/storedata_total.csv\"}, {\"Name\": \"BatchData\", \"Type\": \"String\", \"DefaultValue\": \"s3://sagemaker-studio-891376975801-3j1752jty8h/data/batch/batch.csv\"}], \"PipelineExperimentConfig\": {\"ExperimentName\": {\"Get\": \"Execution.PipelineName\"}, \"TrialName\": {\"Get\": \"Execution.PipelineExecutionId\"}}, \"Steps\": [{\"Name\": \"ChurnModelProcess\", \"Type\": \"Processing\", \"Arguments\": {\"ProcessingResources\": {\"ClusterConfig\": {\"InstanceType\": {\"Get\": \"Parameters.ProcessingInstanceType\"}, \"InstanceCount\": {\"Get\": \"Parameters.ProcessingInstanceCount\"}, \"VolumeSizeInGB\": 30}}, \"AppSpecification\": {\"ImageUri\": \"257758044811.dkr.ecr.us-east-2.amazonaws.com/sagemaker-scikit-learn:0.23-1-cpu-py3\", \"ContainerEntrypoint\": [\"python3\", \"/opt/ml/processing/input/code/preprocess.py\"]}, \"RoleArn\": \"arn:aws:iam::891376975801:role/service-role/AmazonSageMaker-ExecutionRole-20240608T155149\", \"ProcessingInputs\": [{\"InputName\": \"input-1\", \"AppManaged\": false, \"S3Input\": {\"S3Uri\": {\"Get\": \"Parameters.InputData\"}, \"LocalPath\": \"/opt/ml/processing/input\", \"S3DataType\": \"S3Prefix\", \"S3InputMode\": \"File\", \"S3DataDistributionType\": \"FullyReplicated\", \"S3CompressionType\": \"None\"}}, {\"InputName\": \"code\", \"AppManaged\": false, \"S3Input\": {\"S3Uri\": \"s3://sagemaker-studio-891376975801-3j1752jty8h/input/code/preprocess.py\", \"LocalPath\": \"/opt/ml/processing/input/code\", \"S3DataType\": \"S3Prefix\", \"S3InputMode\": \"File\", \"S3DataDistributionType\": \"FullyReplicated\", \"S3CompressionType\": \"None\"}}], \"ProcessingOutputConfig\": {\"Outputs\": [{\"OutputName\": \"train\", \"AppManaged\": false, \"S3Output\": {\"S3Uri\": \"s3://sagemaker-studio-891376975801-3j1752jty8h/output/train\", \"LocalPath\": \"/opt/ml/processing/train\", \"S3UploadMode\": \"EndOfJob\"}}, {\"OutputName\": \"validation\", \"AppManaged\": false, \"S3Output\": {\"S3Uri\": \"s3://sagemaker-studio-891376975801-3j1752jty8h/output/validation\", \"LocalPath\": \"/opt/ml/processing/validation\", \"S3UploadMode\": \"EndOfJob\"}}, {\"OutputName\": \"test\", \"AppManaged\": false, \"S3Output\": {\"S3Uri\": \"s3://sagemaker-studio-891376975801-3j1752jty8h/output/test\", \"LocalPath\": \"/opt/ml/processing/test\", \"S3UploadMode\": \"EndOfJob\"}}]}}}, {\"Name\": \"ChurnHyperParameterTuning\", \"Type\": \"Tuning\", \"Arguments\": {\"HyperParameterTuningJobConfig\": {\"Strategy\": \"Bayesian\", \"ResourceLimits\": {\"MaxNumberOfTrainingJobs\": 2, \"MaxParallelTrainingJobs\": 2}, \"TrainingJobEarlyStoppingType\": \"Off\", \"HyperParameterTuningJobObjective\": {\"Type\": \"Maximize\", \"MetricName\": \"validation:auc\"}, \"ParameterRanges\": {\"ContinuousParameterRanges\": [{\"Name\": \"eta\", \"MinValue\": \"0\", \"MaxValue\": \"1\", \"ScalingType\": \"Auto\"}, {\"Name\": \"min_child_weight\", \"MinValue\": \"1\", \"MaxValue\": \"10\", \"ScalingType\": \"Auto\"}, {\"Name\": \"alpha\", \"MinValue\": \"0\", \"MaxValue\": \"2\", \"ScalingType\": \"Auto\"}], \"CategoricalParameterRanges\": [], \"IntegerParameterRanges\": [{\"Name\": \"max_depth\", \"MinValue\": \"1\", \"MaxValue\": \"10\", \"ScalingType\": \"Auto\"}]}}, \"TrainingJobDefinition\": {\"StaticHyperParameters\": {\"eval_metric\": \"auc\", \"objective\": \"binary:logistic\", \"num_round\": \"100\", \"rate_drop\": \"0.3\", \"tweedie_variance_power\": \"1.4\"}, \"RoleArn\": \"arn:aws:iam::891376975801:role/service-role/AmazonSageMaker-ExecutionRole-20240608T155149\", \"OutputDataConfig\": {\"S3OutputPath\": \"s3://sagemaker-studio-891376975801-3j1752jty8h/output\"}, \"StoppingCondition\": {\"MaxRuntimeInSeconds\": 86400}, \"HyperParameterTuningResourceConfig\": {\"InstanceCount\": 1, \"InstanceType\": {\"Get\": \"Parameters.TrainingInstanceType\"}, \"VolumeSizeInGB\": 30}, \"AlgorithmSpecification\": {\"TrainingInputMode\": \"File\", \"TrainingImage\": \"257758044811.dkr.ecr.us-east-2.amazonaws.com/sagemaker-xgboost:1.0-1-cpu-py3\"}, \"InputDataConfig\": [{\"DataSource\": {\"S3DataSource\": {\"S3DataType\": \"S3Prefix\", \"S3Uri\": {\"Get\": \"Steps.ChurnModelProcess.ProcessingOutputConfig.Outputs[\\'train\\'].S3Output.S3Uri\"}, \"S3DataDistributionType\": \"FullyReplicated\"}}, \"ContentType\": \"text/csv\", \"ChannelName\": \"train\"}, {\"DataSource\": {\"S3DataSource\": {\"S3DataType\": \"S3Prefix\", \"S3Uri\": {\"Get\": \"Steps.ChurnModelProcess.ProcessingOutputConfig.Outputs[\\'validation\\'].S3Output.S3Uri\"}, \"S3DataDistributionType\": \"FullyReplicated\"}}, \"ContentType\": \"text/csv\", \"ChannelName\": \"validation\"}]}}}, {\"Name\": \"ChurnEvalBestModel\", \"Type\": \"Processing\", \"Arguments\": {\"ProcessingResources\": {\"ClusterConfig\": {\"InstanceType\": {\"Get\": \"Parameters.ProcessingInstanceType\"}, \"InstanceCount\": 1, \"VolumeSizeInGB\": 30}}, \"AppSpecification\": {\"ImageUri\": \"257758044811.dkr.ecr.us-east-2.amazonaws.com/sagemaker-xgboost:1.0-1-cpu-py3\", \"ContainerEntrypoint\": [\"python3\", \"/opt/ml/processing/input/code/evaluate.py\"]}, \"RoleArn\": \"arn:aws:iam::891376975801:role/service-role/AmazonSageMaker-ExecutionRole-20240608T155149\", \"ProcessingInputs\": [{\"InputName\": \"input-1\", \"AppManaged\": false, \"S3Input\": {\"S3Uri\": {\"Std:Join\": {\"On\": \"/\", \"Values\": [\"s3:/\", \"sagemaker-studio-891376975801-3j1752jty8h\", \"output\", {\"Get\": \"Steps.ChurnHyperParameterTuning.TrainingJobSummaries[0].TrainingJobName\"}, \"output/model.tar.gz\"]}}, \"LocalPath\": \"/opt/ml/processing/model\", \"S3DataType\": \"S3Prefix\", \"S3InputMode\": \"File\", \"S3DataDistributionType\": \"FullyReplicated\", \"S3CompressionType\": \"None\"}}, {\"InputName\": \"input-2\", \"AppManaged\": false, \"S3Input\": {\"S3Uri\": {\"Get\": \"Steps.ChurnModelProcess.ProcessingOutputConfig.Outputs[\\'test\\'].S3Output.S3Uri\"}, \"LocalPath\": \"/opt/ml/processing/test\", \"S3DataType\": \"S3Prefix\", \"S3InputMode\": \"File\", \"S3DataDistributionType\": \"FullyReplicated\", \"S3CompressionType\": \"None\"}}, {\"InputName\": \"code\", \"AppManaged\": false, \"S3Input\": {\"S3Uri\": \"s3://sagemaker-studio-891376975801-3j1752jty8h/input/code/evaluate.py\", \"LocalPath\": \"/opt/ml/processing/input/code\", \"S3DataType\": \"S3Prefix\", \"S3InputMode\": \"File\", \"S3DataDistributionType\": \"FullyReplicated\", \"S3CompressionType\": \"None\"}}], \"ProcessingOutputConfig\": {\"Outputs\": [{\"OutputName\": \"evaluation\", \"AppManaged\": false, \"S3Output\": {\"S3Uri\": \"s3://sagemaker-studio-891376975801-3j1752jty8h/output/evaluation\", \"LocalPath\": \"/opt/ml/processing/evaluation\", \"S3UploadMode\": \"EndOfJob\"}}]}}, \"PropertyFiles\": [{\"PropertyFileName\": \"ChurnEvaluationReport\", \"OutputName\": \"evaluation\", \"FilePath\": \"evaluation.json\"}]}, {\"Name\": \"CheckAUCScoreChurnEvaluation\", \"Type\": \"Condition\", \"Arguments\": {\"Conditions\": [{\"Type\": \"GreaterThan\", \"LeftValue\": {\"Std:JsonGet\": {\"PropertyFile\": {\"Get\": \"Steps.ChurnEvalBestModel.PropertyFiles.ChurnEvaluationReport\"}, \"Path\": \"classification_metrics.auc_score.value\"}}, \"RightValue\": 0.75}], \"IfSteps\": [{\"Name\": \"RegisterChurnModel-RegisterModel\", \"Type\": \"RegisterModel\", \"Arguments\": {\"ModelPackageGroupName\": \"ChurnModelPackageGroup\", \"ModelMetrics\": {\"ModelQuality\": {\"Statistics\": {\"ContentType\": \"application/json\", \"S3Uri\": \"s3://sagemaker-studio-891376975801-3j1752jty8h/evaluation.json\"}}, \"Bias\": {}, \"Explainability\": {}}, \"InferenceSpecification\": {\"Containers\": [{\"Image\": \"257758044811.dkr.ecr.us-east-2.amazonaws.com/sagemaker-xgboost:1.0-1-cpu-py3\", \"ModelDataUrl\": {\"Std:Join\": {\"On\": \"/\", \"Values\": [\"s3:/\", \"sagemaker-studio-891376975801-3j1752jty8h\", \"output\", {\"Get\": \"Steps.ChurnHyperParameterTuning.TrainingJobSummaries[0].TrainingJobName\"}, \"output/model.tar.gz\"]}}}], \"SupportedContentTypes\": [\"text/csv\"], \"SupportedResponseMIMETypes\": [\"text/csv\"], \"SupportedRealtimeInferenceInstanceTypes\": [\"ml.t2.medium\", \"ml.m5.large\"], \"SupportedTransformInstanceTypes\": [\"ml.m5.large\"]}, \"ModelApprovalStatus\": \"PendingManualApproval\", \"SkipModelValidation\": \"None\"}}, {\"Name\": \"ChurnCreateModel\", \"Type\": \"Model\", \"Arguments\": {\"ExecutionRoleArn\": \"arn:aws:iam::891376975801:role/service-role/AmazonSageMaker-ExecutionRole-20240608T155149\", \"PrimaryContainer\": {\"Image\": \"257758044811.dkr.ecr.us-east-2.amazonaws.com/sagemaker-xgboost:1.0-1-cpu-py3\", \"Environment\": {}, \"ModelDataUrl\": {\"Std:Join\": {\"On\": \"/\", \"Values\": [\"s3:/\", \"sagemaker-studio-891376975801-3j1752jty8h\", \"output\", {\"Get\": \"Steps.ChurnHyperParameterTuning.TrainingJobSummaries[0].TrainingJobName\"}, \"output/model.tar.gz\"]}}}}}, {\"Name\": \"ChurnModelConfigFile\", \"Type\": \"Processing\", \"Arguments\": {\"ProcessingResources\": {\"ClusterConfig\": {\"InstanceType\": {\"Get\": \"Parameters.ProcessingInstanceType\"}, \"InstanceCount\": 1, \"VolumeSizeInGB\": 30}}, \"AppSpecification\": {\"ImageUri\": \"257758044811.dkr.ecr.us-east-2.amazonaws.com/sagemaker-scikit-learn:0.23-1-cpu-py3\", \"ContainerArguments\": [\"--modelname\", {\"Get\": \"Steps.ChurnCreateModel.ModelName\"}, \"--bias-report-output-path\", \"s3://sagemaker-studio-891376975801-3j1752jty8h/clarify-output/bias\", \"--clarify-instance-type\", \"ml.c5.xlarge\", \"--default-bucket\", \"sagemaker-studio-891376975801-3j1752jty8h\", \"--num-baseline-samples\", \"50\", \"--instance-count\", \"1\"], \"ContainerEntrypoint\": [\"python3\", \"/opt/ml/processing/input/code/generate_config.py\"]}, \"RoleArn\": \"arn:aws:iam::891376975801:role/service-role/AmazonSageMaker-ExecutionRole-20240608T155149\", \"ProcessingInputs\": [{\"InputName\": \"code\", \"AppManaged\": false, \"S3Input\": {\"S3Uri\": \"s3://sagemaker-studio-891376975801-3j1752jty8h/input/code/generate_config.py\", \"LocalPath\": \"/opt/ml/processing/input/code\", \"S3DataType\": \"S3Prefix\", \"S3InputMode\": \"File\", \"S3DataDistributionType\": \"FullyReplicated\", \"S3CompressionType\": \"None\"}}]}, \"DependsOn\": [\"ChurnCreateModel\"]}, {\"Name\": \"ChurnTransform\", \"Type\": \"Transform\", \"Arguments\": {\"ModelName\": {\"Get\": \"Steps.ChurnCreateModel.ModelName\"}, \"TransformInput\": {\"DataSource\": {\"S3DataSource\": {\"S3DataType\": \"S3Prefix\", \"S3Uri\": {\"Get\": \"Parameters.BatchData\"}}}, \"ContentType\": \"text/csv\"}, \"TransformOutput\": {\"S3OutputPath\": \"s3://sagemaker-studio-891376975801-3j1752jty8h/ChurnTransform\"}, \"TransformResources\": {\"InstanceCount\": 1, \"InstanceType\": \"ml.m5.xlarge\"}}}, {\"Name\": \"ClarifyProcessingStep\", \"Type\": \"Processing\", \"Arguments\": {\"ProcessingResources\": {\"ClusterConfig\": {\"InstanceType\": \"ml.c5.xlarge\", \"InstanceCount\": 1, \"VolumeSizeInGB\": 30}}, \"AppSpecification\": {\"ImageUri\": \"211330385671.dkr.ecr.us-east-2.amazonaws.com/sagemaker-clarify-processing:1.0\"}, \"RoleArn\": \"arn:aws:iam::891376975801:role/service-role/AmazonSageMaker-ExecutionRole-20240608T155149\", \"ProcessingInputs\": [{\"InputName\": \"dataset\", \"AppManaged\": false, \"S3Input\": {\"S3Uri\": \"s3://sagemaker-studio-891376975801-3j1752jty8h/output/train/train.csv\", \"LocalPath\": \"/opt/ml/processing/input/data\", \"S3DataType\": \"S3Prefix\", \"S3InputMode\": \"File\", \"S3DataDistributionType\": \"FullyReplicated\", \"S3CompressionType\": \"None\"}}, {\"InputName\": \"analysis_config\", \"AppManaged\": false, \"S3Input\": {\"S3Uri\": \"s3://sagemaker-studio-891376975801-3j1752jty8h/clarify-output/bias/analysis_config.json\", \"LocalPath\": \"/opt/ml/processing/input/analysis_config\", \"S3DataType\": \"S3Prefix\", \"S3InputMode\": \"File\", \"S3DataDistributionType\": \"FullyReplicated\", \"S3CompressionType\": \"None\"}}], \"ProcessingOutputConfig\": {\"Outputs\": [{\"OutputName\": \"analysis_result\", \"AppManaged\": false, \"S3Output\": {\"S3Uri\": \"s3://sagemaker-studio-891376975801-3j1752jty8h/clarify-output/bias\", \"LocalPath\": \"/opt/ml/processing/output\", \"S3UploadMode\": \"EndOfJob\"}}]}}, \"DependsOn\": [\"ChurnModelConfigFile\"]}], \"ElseSteps\": []}}]}'"
      ]
     },
     "execution_count": 51,
     "metadata": {},
     "output_type": "execute_result"
    }
   ],
   "source": [
    "pipeline.definition()"
   ]
  },
  {
   "cell_type": "code",
   "execution_count": 52,
   "id": "5470bebd-0112-4353-accb-8d81aa4482f9",
   "metadata": {},
   "outputs": [
    {
     "name": "stderr",
     "output_type": "stream",
     "text": [
      "WARNING:sagemaker.workflow.utilities:Popping out 'ProcessingJobName' from the pipeline definition by default since it will be overridden at pipeline execution time. Please utilize the PipelineDefinitionConfig to persist this field in the pipeline definition if desired.\n",
      "WARNING:sagemaker.estimator:No finished training job found associated with this estimator. Please make sure this estimator is only used for building workflow config\n",
      "WARNING:sagemaker.estimator:No finished training job found associated with this estimator. Please make sure this estimator is only used for building workflow config\n",
      "WARNING:sagemaker.workflow.utilities:Popping out 'HyperParameterTuningJobName' from the pipeline definition by default since it will be overridden at pipeline execution time. Please utilize the PipelineDefinitionConfig to persist this field in the pipeline definition if desired.\n",
      "WARNING:sagemaker.workflow.utilities:Popping out 'ProcessingJobName' from the pipeline definition by default since it will be overridden at pipeline execution time. Please utilize the PipelineDefinitionConfig to persist this field in the pipeline definition if desired.\n",
      "WARNING:sagemaker.estimator:No finished training job found associated with this estimator. Please make sure this estimator is only used for building workflow config\n",
      "WARNING:sagemaker.workflow._utils:Popping out 'CertifyForMarketplace' from the pipeline definition since it will be overridden in pipeline execution time.\n",
      "WARNING:sagemaker.workflow.utilities:Popping out 'ModelPackageName' from the pipeline definition by default since it will be overridden at pipeline execution time. Please utilize the PipelineDefinitionConfig to persist this field in the pipeline definition if desired.\n",
      "WARNING:sagemaker.workflow.utilities:Popping out 'ModelName' from the pipeline definition by default since it will be overridden at pipeline execution time. Please utilize the PipelineDefinitionConfig to persist this field in the pipeline definition if desired.\n",
      "WARNING:sagemaker.workflow.utilities:Popping out 'ProcessingJobName' from the pipeline definition by default since it will be overridden at pipeline execution time. Please utilize the PipelineDefinitionConfig to persist this field in the pipeline definition if desired.\n",
      "WARNING:sagemaker.workflow.utilities:Popping out 'TransformJobName' from the pipeline definition by default since it will be overridden at pipeline execution time. Please utilize the PipelineDefinitionConfig to persist this field in the pipeline definition if desired.\n",
      "WARNING:sagemaker.workflow.utilities:Popping out 'ProcessingJobName' from the pipeline definition by default since it will be overridden at pipeline execution time. Please utilize the PipelineDefinitionConfig to persist this field in the pipeline definition if desired.\n",
      "WARNING:sagemaker.workflow.utilities:Popping out 'ProcessingJobName' from the pipeline definition by default since it will be overridden at pipeline execution time. Please utilize the PipelineDefinitionConfig to persist this field in the pipeline definition if desired.\n",
      "WARNING:sagemaker.estimator:No finished training job found associated with this estimator. Please make sure this estimator is only used for building workflow config\n",
      "WARNING:sagemaker.estimator:No finished training job found associated with this estimator. Please make sure this estimator is only used for building workflow config\n",
      "WARNING:sagemaker.workflow.utilities:Popping out 'HyperParameterTuningJobName' from the pipeline definition by default since it will be overridden at pipeline execution time. Please utilize the PipelineDefinitionConfig to persist this field in the pipeline definition if desired.\n",
      "WARNING:sagemaker.workflow.utilities:Popping out 'ProcessingJobName' from the pipeline definition by default since it will be overridden at pipeline execution time. Please utilize the PipelineDefinitionConfig to persist this field in the pipeline definition if desired.\n",
      "WARNING:sagemaker.estimator:No finished training job found associated with this estimator. Please make sure this estimator is only used for building workflow config\n",
      "WARNING:sagemaker.workflow._utils:Popping out 'CertifyForMarketplace' from the pipeline definition since it will be overridden in pipeline execution time.\n",
      "WARNING:sagemaker.workflow.utilities:Popping out 'ModelPackageName' from the pipeline definition by default since it will be overridden at pipeline execution time. Please utilize the PipelineDefinitionConfig to persist this field in the pipeline definition if desired.\n",
      "WARNING:sagemaker.workflow.utilities:Popping out 'ModelName' from the pipeline definition by default since it will be overridden at pipeline execution time. Please utilize the PipelineDefinitionConfig to persist this field in the pipeline definition if desired.\n",
      "WARNING:sagemaker.workflow.utilities:Popping out 'ProcessingJobName' from the pipeline definition by default since it will be overridden at pipeline execution time. Please utilize the PipelineDefinitionConfig to persist this field in the pipeline definition if desired.\n",
      "WARNING:sagemaker.workflow.utilities:Popping out 'TransformJobName' from the pipeline definition by default since it will be overridden at pipeline execution time. Please utilize the PipelineDefinitionConfig to persist this field in the pipeline definition if desired.\n",
      "WARNING:sagemaker.workflow.utilities:Popping out 'ProcessingJobName' from the pipeline definition by default since it will be overridden at pipeline execution time. Please utilize the PipelineDefinitionConfig to persist this field in the pipeline definition if desired.\n"
     ]
    },
    {
     "data": {
      "text/plain": [
       "{'PipelineArn': 'arn:aws:sagemaker:us-east-2:891376975801:pipeline/ChurnModelSMPipeline',\n",
       " 'ResponseMetadata': {'RequestId': '5ee5e2d7-2cb4-414b-abd3-1c9799123e8c',\n",
       "  'HTTPStatusCode': 200,\n",
       "  'HTTPHeaders': {'x-amzn-requestid': '5ee5e2d7-2cb4-414b-abd3-1c9799123e8c',\n",
       "   'content-type': 'application/x-amz-json-1.1',\n",
       "   'content-length': '88',\n",
       "   'date': 'Sun, 09 Jun 2024 15:18:49 GMT'},\n",
       "  'RetryAttempts': 0}}"
      ]
     },
     "execution_count": 52,
     "metadata": {},
     "output_type": "execute_result"
    }
   ],
   "source": [
    "pipeline.upsert(role_arn=role)"
   ]
  },
  {
   "cell_type": "code",
   "execution_count": 53,
   "id": "1c7ba501-6038-4d9e-8d75-b3ecfb58546c",
   "metadata": {},
   "outputs": [],
   "source": [
    "execution = pipeline.start()"
   ]
  },
  {
   "cell_type": "code",
   "execution_count": 54,
   "id": "feb02653-aff9-4898-a48a-cd3c150e1e49",
   "metadata": {},
   "outputs": [
    {
     "data": {
      "text/plain": [
       "{'PipelineArn': 'arn:aws:sagemaker:us-east-2:891376975801:pipeline/ChurnModelSMPipeline',\n",
       " 'PipelineExecutionArn': 'arn:aws:sagemaker:us-east-2:891376975801:pipeline/ChurnModelSMPipeline/execution/y9t61wkdsxru',\n",
       " 'PipelineExecutionDisplayName': 'execution-1717946339600',\n",
       " 'PipelineExecutionStatus': 'Failed',\n",
       " 'PipelineExperimentConfig': {'ExperimentName': 'churnmodelsmpipeline',\n",
       "  'TrialName': 'y9t61wkdsxru'},\n",
       " 'FailureReason': 'Step failure: One or multiple steps failed.',\n",
       " 'CreationTime': datetime.datetime(2024, 6, 9, 15, 18, 59, 510000, tzinfo=tzlocal()),\n",
       " 'LastModifiedTime': datetime.datetime(2024, 6, 9, 15, 19, 1, 646000, tzinfo=tzlocal()),\n",
       " 'CreatedBy': {'UserProfileArn': 'arn:aws:sagemaker:us-east-2:891376975801:user-profile/d-8lx0bg5nslfb/default-20240608t155149',\n",
       "  'UserProfileName': 'default-20240608t155149',\n",
       "  'DomainId': 'd-8lx0bg5nslfb',\n",
       "  'IamIdentity': {'Arn': 'arn:aws:sts::891376975801:assumed-role/AmazonSageMaker-ExecutionRole-20240608T155149/SageMaker',\n",
       "   'PrincipalId': 'AROA47CRVH646MV3WAOAC:SageMaker'}},\n",
       " 'LastModifiedBy': {'UserProfileArn': 'arn:aws:sagemaker:us-east-2:891376975801:user-profile/d-8lx0bg5nslfb/default-20240608t155149',\n",
       "  'UserProfileName': 'default-20240608t155149',\n",
       "  'DomainId': 'd-8lx0bg5nslfb',\n",
       "  'IamIdentity': {'Arn': 'arn:aws:sts::891376975801:assumed-role/AmazonSageMaker-ExecutionRole-20240608T155149/SageMaker',\n",
       "   'PrincipalId': 'AROA47CRVH646MV3WAOAC:SageMaker'}},\n",
       " 'ResponseMetadata': {'RequestId': '88877d4f-15ab-4a87-8ac3-b148e46173cb',\n",
       "  'HTTPStatusCode': 200,\n",
       "  'HTTPHeaders': {'x-amzn-requestid': '88877d4f-15ab-4a87-8ac3-b148e46173cb',\n",
       "   'content-type': 'application/x-amz-json-1.1',\n",
       "   'content-length': '1259',\n",
       "   'date': 'Sun, 09 Jun 2024 15:19:02 GMT'},\n",
       "  'RetryAttempts': 0}}"
      ]
     },
     "execution_count": 54,
     "metadata": {},
     "output_type": "execute_result"
    }
   ],
   "source": [
    "execution.describe()"
   ]
  },
  {
   "cell_type": "code",
   "execution_count": null,
   "id": "2223647c-8cbb-4a0e-bc44-d4bd989cc698",
   "metadata": {},
   "outputs": [],
   "source": []
  }
 ],
 "metadata": {
  "kernelspec": {
   "display_name": "Python 3 (ipykernel)",
   "language": "python",
   "name": "python3"
  },
  "language_info": {
   "codemirror_mode": {
    "name": "ipython",
    "version": 3
   },
   "file_extension": ".py",
   "mimetype": "text/x-python",
   "name": "python",
   "nbconvert_exporter": "python",
   "pygments_lexer": "ipython3",
   "version": "3.10.14"
  }
 },
 "nbformat": 4,
 "nbformat_minor": 5
}
